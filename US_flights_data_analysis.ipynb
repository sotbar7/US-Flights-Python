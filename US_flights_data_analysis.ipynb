{
  "nbformat": 4,
  "nbformat_minor": 0,
  "metadata": {
    "kernelspec": {
      "display_name": "Python 3",
      "language": "python",
      "name": "python3"
    },
    "language_info": {
      "codemirror_mode": {
        "name": "ipython",
        "version": 3
      },
      "file_extension": ".py",
      "mimetype": "text/x-python",
      "name": "python",
      "nbconvert_exporter": "python",
      "pygments_lexer": "ipython3",
      "version": "3.6.4"
    },
    "colab": {
      "name": "US flights data analysis",
      "version": "0.3.2",
      "provenance": [],
      "collapsed_sections": [
        "yFQ2MEFtPnQK",
        "4qoQnAnPPnQS",
        "2te6I22_PnRs"
      ]
    }
  },
  "cells": [
    {
      "cell_type": "markdown",
      "metadata": {
        "id": "8PZ-1BgBPnMB",
        "colab_type": "text"
      },
      "source": [
        "# Data Analytics Project: Exploring US Flights Data\n",
        "\n",
        "> <strong>Baratsas Sotiris</strong><br />\n",
        "> MSc in Business Analytics<br />\n",
        "> sotbaratsas@gmail.com<br />\n",
        "\n",
        "\n"
      ]
    },
    {
      "cell_type": "markdown",
      "metadata": {
        "id": "dSWNmCMYPnMH",
        "colab_type": "text"
      },
      "source": [
        "# Data import and preparation\n",
        "\n",
        "At this stage, we import the dataset and explore its structure to get a better understanding of the available data."
      ]
    },
    {
      "cell_type": "code",
      "metadata": {
        "id": "oIQ_vWRtPnMQ",
        "colab_type": "code",
        "colab": {}
      },
      "source": [
        "# Importing packages\n",
        "import numpy as np\n",
        "import pandas as pd\n",
        "import matplotlib.pyplot as plt"
      ],
      "execution_count": 0,
      "outputs": []
    },
    {
      "cell_type": "code",
      "metadata": {
        "id": "U2iLjlE_PnMS",
        "colab_type": "code",
        "outputId": "0a51bde2-f9a8-424b-a8f2-d7945eff490a",
        "colab": {}
      },
      "source": [
        "# Importing the dataset\n",
        "flights = pd.read_csv('119734260_T_ONTIME_REPORTING.csv', delimiter=',')\n",
        "print(flights.shape) # Dimensions of our dataset\n",
        "flights.sample(10) # Taking a sample of 15 observations to get a sense of our data"
      ],
      "execution_count": 0,
      "outputs": [
        {
          "output_type": "stream",
          "text": [
            "(5674621, 20)\n"
          ],
          "name": "stdout"
        },
        {
          "output_type": "execute_result",
          "data": {
            "text/html": [
              "<div>\n",
              "<style scoped>\n",
              "    .dataframe tbody tr th:only-of-type {\n",
              "        vertical-align: middle;\n",
              "    }\n",
              "\n",
              "    .dataframe tbody tr th {\n",
              "        vertical-align: top;\n",
              "    }\n",
              "\n",
              "    .dataframe thead th {\n",
              "        text-align: right;\n",
              "    }\n",
              "</style>\n",
              "<table border=\"1\" class=\"dataframe\">\n",
              "  <thead>\n",
              "    <tr style=\"text-align: right;\">\n",
              "      <th></th>\n",
              "      <th>FL_DATE</th>\n",
              "      <th>TAIL_NUM</th>\n",
              "      <th>CARRIER</th>\n",
              "      <th>ORIGIN</th>\n",
              "      <th>ORIGIN_CITY_NAME</th>\n",
              "      <th>DEST</th>\n",
              "      <th>DEST_CITY_NAME</th>\n",
              "      <th>DEP_TIME</th>\n",
              "      <th>DEP_DELAY</th>\n",
              "      <th>ARR_TIME</th>\n",
              "      <th>ARR_DELAY</th>\n",
              "      <th>CANCELLED</th>\n",
              "      <th>CANCELLATION_CODE</th>\n",
              "      <th>DIVERTED</th>\n",
              "      <th>CARRIER_DELAY</th>\n",
              "      <th>WEATHER_DELAY</th>\n",
              "      <th>NAS_DELAY</th>\n",
              "      <th>SECURITY_DELAY</th>\n",
              "      <th>LATE_AIRCRAFT_DELAY</th>\n",
              "      <th>Unnamed: 19</th>\n",
              "    </tr>\n",
              "  </thead>\n",
              "  <tbody>\n",
              "    <tr>\n",
              "      <th>3704938</th>\n",
              "      <td>2017-08-24</td>\n",
              "      <td>N978JB</td>\n",
              "      <td>B6</td>\n",
              "      <td>SFO</td>\n",
              "      <td>San Francisco, CA</td>\n",
              "      <td>BOS</td>\n",
              "      <td>Boston, MA</td>\n",
              "      <td>749.0</td>\n",
              "      <td>-1.0</td>\n",
              "      <td>1617.0</td>\n",
              "      <td>-12.0</td>\n",
              "      <td>0.0</td>\n",
              "      <td>NaN</td>\n",
              "      <td>0.0</td>\n",
              "      <td>NaN</td>\n",
              "      <td>NaN</td>\n",
              "      <td>NaN</td>\n",
              "      <td>NaN</td>\n",
              "      <td>NaN</td>\n",
              "      <td>NaN</td>\n",
              "    </tr>\n",
              "    <tr>\n",
              "      <th>5061451</th>\n",
              "      <td>2017-11-21</td>\n",
              "      <td>N807UA</td>\n",
              "      <td>UA</td>\n",
              "      <td>ICT</td>\n",
              "      <td>Wichita, KS</td>\n",
              "      <td>DEN</td>\n",
              "      <td>Denver, CO</td>\n",
              "      <td>952.0</td>\n",
              "      <td>32.0</td>\n",
              "      <td>1018.0</td>\n",
              "      <td>15.0</td>\n",
              "      <td>0.0</td>\n",
              "      <td>NaN</td>\n",
              "      <td>0.0</td>\n",
              "      <td>15.0</td>\n",
              "      <td>0.0</td>\n",
              "      <td>0.0</td>\n",
              "      <td>0.0</td>\n",
              "      <td>0.0</td>\n",
              "      <td>NaN</td>\n",
              "    </tr>\n",
              "    <tr>\n",
              "      <th>3640824</th>\n",
              "      <td>2017-08-21</td>\n",
              "      <td>N384SW</td>\n",
              "      <td>WN</td>\n",
              "      <td>DEN</td>\n",
              "      <td>Denver, CO</td>\n",
              "      <td>HOU</td>\n",
              "      <td>Houston, TX</td>\n",
              "      <td>2227.0</td>\n",
              "      <td>122.0</td>\n",
              "      <td>144.0</td>\n",
              "      <td>124.0</td>\n",
              "      <td>0.0</td>\n",
              "      <td>NaN</td>\n",
              "      <td>0.0</td>\n",
              "      <td>2.0</td>\n",
              "      <td>0.0</td>\n",
              "      <td>2.0</td>\n",
              "      <td>0.0</td>\n",
              "      <td>120.0</td>\n",
              "      <td>NaN</td>\n",
              "    </tr>\n",
              "    <tr>\n",
              "      <th>3762189</th>\n",
              "      <td>2017-08-28</td>\n",
              "      <td>N918DL</td>\n",
              "      <td>DL</td>\n",
              "      <td>ATL</td>\n",
              "      <td>Atlanta, GA</td>\n",
              "      <td>GSO</td>\n",
              "      <td>Greensboro/High Point, NC</td>\n",
              "      <td>1214.0</td>\n",
              "      <td>-5.0</td>\n",
              "      <td>1313.0</td>\n",
              "      <td>-21.0</td>\n",
              "      <td>0.0</td>\n",
              "      <td>NaN</td>\n",
              "      <td>0.0</td>\n",
              "      <td>NaN</td>\n",
              "      <td>NaN</td>\n",
              "      <td>NaN</td>\n",
              "      <td>NaN</td>\n",
              "      <td>NaN</td>\n",
              "      <td>NaN</td>\n",
              "    </tr>\n",
              "    <tr>\n",
              "      <th>217850</th>\n",
              "      <td>2017-01-16</td>\n",
              "      <td>N320AS</td>\n",
              "      <td>AS</td>\n",
              "      <td>ONT</td>\n",
              "      <td>Ontario, CA</td>\n",
              "      <td>SEA</td>\n",
              "      <td>Seattle, WA</td>\n",
              "      <td>1808.0</td>\n",
              "      <td>-7.0</td>\n",
              "      <td>2047.0</td>\n",
              "      <td>-5.0</td>\n",
              "      <td>0.0</td>\n",
              "      <td>NaN</td>\n",
              "      <td>0.0</td>\n",
              "      <td>NaN</td>\n",
              "      <td>NaN</td>\n",
              "      <td>NaN</td>\n",
              "      <td>NaN</td>\n",
              "      <td>NaN</td>\n",
              "      <td>NaN</td>\n",
              "    </tr>\n",
              "    <tr>\n",
              "      <th>470922</th>\n",
              "      <td>2017-02-02</td>\n",
              "      <td>N27722</td>\n",
              "      <td>UA</td>\n",
              "      <td>ATL</td>\n",
              "      <td>Atlanta, GA</td>\n",
              "      <td>EWR</td>\n",
              "      <td>Newark, NJ</td>\n",
              "      <td>1101.0</td>\n",
              "      <td>1.0</td>\n",
              "      <td>1318.0</td>\n",
              "      <td>-1.0</td>\n",
              "      <td>0.0</td>\n",
              "      <td>NaN</td>\n",
              "      <td>0.0</td>\n",
              "      <td>NaN</td>\n",
              "      <td>NaN</td>\n",
              "      <td>NaN</td>\n",
              "      <td>NaN</td>\n",
              "      <td>NaN</td>\n",
              "      <td>NaN</td>\n",
              "    </tr>\n",
              "    <tr>\n",
              "      <th>2323160</th>\n",
              "      <td>2017-06-02</td>\n",
              "      <td>N8602F</td>\n",
              "      <td>WN</td>\n",
              "      <td>MDW</td>\n",
              "      <td>Chicago, IL</td>\n",
              "      <td>LAX</td>\n",
              "      <td>Los Angeles, CA</td>\n",
              "      <td>837.0</td>\n",
              "      <td>12.0</td>\n",
              "      <td>1033.0</td>\n",
              "      <td>-17.0</td>\n",
              "      <td>0.0</td>\n",
              "      <td>NaN</td>\n",
              "      <td>0.0</td>\n",
              "      <td>NaN</td>\n",
              "      <td>NaN</td>\n",
              "      <td>NaN</td>\n",
              "      <td>NaN</td>\n",
              "      <td>NaN</td>\n",
              "      <td>NaN</td>\n",
              "    </tr>\n",
              "    <tr>\n",
              "      <th>4050419</th>\n",
              "      <td>2017-09-16</td>\n",
              "      <td>N251SY</td>\n",
              "      <td>OO</td>\n",
              "      <td>SEA</td>\n",
              "      <td>Seattle, WA</td>\n",
              "      <td>RDM</td>\n",
              "      <td>Bend/Redmond, OR</td>\n",
              "      <td>2048.0</td>\n",
              "      <td>-7.0</td>\n",
              "      <td>2144.0</td>\n",
              "      <td>-16.0</td>\n",
              "      <td>0.0</td>\n",
              "      <td>NaN</td>\n",
              "      <td>0.0</td>\n",
              "      <td>NaN</td>\n",
              "      <td>NaN</td>\n",
              "      <td>NaN</td>\n",
              "      <td>NaN</td>\n",
              "      <td>NaN</td>\n",
              "      <td>NaN</td>\n",
              "    </tr>\n",
              "    <tr>\n",
              "      <th>2715163</th>\n",
              "      <td>2017-06-26</td>\n",
              "      <td>N7746C</td>\n",
              "      <td>WN</td>\n",
              "      <td>LGA</td>\n",
              "      <td>New York, NY</td>\n",
              "      <td>MDW</td>\n",
              "      <td>Chicago, IL</td>\n",
              "      <td>1604.0</td>\n",
              "      <td>-1.0</td>\n",
              "      <td>1722.0</td>\n",
              "      <td>-13.0</td>\n",
              "      <td>0.0</td>\n",
              "      <td>NaN</td>\n",
              "      <td>0.0</td>\n",
              "      <td>NaN</td>\n",
              "      <td>NaN</td>\n",
              "      <td>NaN</td>\n",
              "      <td>NaN</td>\n",
              "      <td>NaN</td>\n",
              "      <td>NaN</td>\n",
              "    </tr>\n",
              "    <tr>\n",
              "      <th>3171770</th>\n",
              "      <td>2017-07-23</td>\n",
              "      <td>N228PQ</td>\n",
              "      <td>EV</td>\n",
              "      <td>ATL</td>\n",
              "      <td>Atlanta, GA</td>\n",
              "      <td>TUL</td>\n",
              "      <td>Tulsa, OK</td>\n",
              "      <td>1641.0</td>\n",
              "      <td>6.0</td>\n",
              "      <td>1753.0</td>\n",
              "      <td>10.0</td>\n",
              "      <td>0.0</td>\n",
              "      <td>NaN</td>\n",
              "      <td>0.0</td>\n",
              "      <td>NaN</td>\n",
              "      <td>NaN</td>\n",
              "      <td>NaN</td>\n",
              "      <td>NaN</td>\n",
              "      <td>NaN</td>\n",
              "      <td>NaN</td>\n",
              "    </tr>\n",
              "  </tbody>\n",
              "</table>\n",
              "</div>"
            ],
            "text/plain": [
              "            FL_DATE TAIL_NUM CARRIER ORIGIN   ORIGIN_CITY_NAME DEST  \\\n",
              "3704938  2017-08-24   N978JB      B6    SFO  San Francisco, CA  BOS   \n",
              "5061451  2017-11-21   N807UA      UA    ICT        Wichita, KS  DEN   \n",
              "3640824  2017-08-21   N384SW      WN    DEN         Denver, CO  HOU   \n",
              "3762189  2017-08-28   N918DL      DL    ATL        Atlanta, GA  GSO   \n",
              "217850   2017-01-16   N320AS      AS    ONT        Ontario, CA  SEA   \n",
              "470922   2017-02-02   N27722      UA    ATL        Atlanta, GA  EWR   \n",
              "2323160  2017-06-02   N8602F      WN    MDW        Chicago, IL  LAX   \n",
              "4050419  2017-09-16   N251SY      OO    SEA        Seattle, WA  RDM   \n",
              "2715163  2017-06-26   N7746C      WN    LGA       New York, NY  MDW   \n",
              "3171770  2017-07-23   N228PQ      EV    ATL        Atlanta, GA  TUL   \n",
              "\n",
              "                    DEST_CITY_NAME  DEP_TIME  DEP_DELAY  ARR_TIME  ARR_DELAY  \\\n",
              "3704938                 Boston, MA     749.0       -1.0    1617.0      -12.0   \n",
              "5061451                 Denver, CO     952.0       32.0    1018.0       15.0   \n",
              "3640824                Houston, TX    2227.0      122.0     144.0      124.0   \n",
              "3762189  Greensboro/High Point, NC    1214.0       -5.0    1313.0      -21.0   \n",
              "217850                 Seattle, WA    1808.0       -7.0    2047.0       -5.0   \n",
              "470922                  Newark, NJ    1101.0        1.0    1318.0       -1.0   \n",
              "2323160            Los Angeles, CA     837.0       12.0    1033.0      -17.0   \n",
              "4050419           Bend/Redmond, OR    2048.0       -7.0    2144.0      -16.0   \n",
              "2715163                Chicago, IL    1604.0       -1.0    1722.0      -13.0   \n",
              "3171770                  Tulsa, OK    1641.0        6.0    1753.0       10.0   \n",
              "\n",
              "         CANCELLED CANCELLATION_CODE  DIVERTED  CARRIER_DELAY  WEATHER_DELAY  \\\n",
              "3704938        0.0               NaN       0.0            NaN            NaN   \n",
              "5061451        0.0               NaN       0.0           15.0            0.0   \n",
              "3640824        0.0               NaN       0.0            2.0            0.0   \n",
              "3762189        0.0               NaN       0.0            NaN            NaN   \n",
              "217850         0.0               NaN       0.0            NaN            NaN   \n",
              "470922         0.0               NaN       0.0            NaN            NaN   \n",
              "2323160        0.0               NaN       0.0            NaN            NaN   \n",
              "4050419        0.0               NaN       0.0            NaN            NaN   \n",
              "2715163        0.0               NaN       0.0            NaN            NaN   \n",
              "3171770        0.0               NaN       0.0            NaN            NaN   \n",
              "\n",
              "         NAS_DELAY  SECURITY_DELAY  LATE_AIRCRAFT_DELAY  Unnamed: 19  \n",
              "3704938        NaN             NaN                  NaN          NaN  \n",
              "5061451        0.0             0.0                  0.0          NaN  \n",
              "3640824        2.0             0.0                120.0          NaN  \n",
              "3762189        NaN             NaN                  NaN          NaN  \n",
              "217850         NaN             NaN                  NaN          NaN  \n",
              "470922         NaN             NaN                  NaN          NaN  \n",
              "2323160        NaN             NaN                  NaN          NaN  \n",
              "4050419        NaN             NaN                  NaN          NaN  \n",
              "2715163        NaN             NaN                  NaN          NaN  \n",
              "3171770        NaN             NaN                  NaN          NaN  "
            ]
          },
          "metadata": {
            "tags": []
          },
          "execution_count": 605
        }
      ]
    },
    {
      "cell_type": "markdown",
      "metadata": {
        "id": "uxGmZdkZPnMc",
        "colab_type": "text"
      },
      "source": [
        "It's also important to check the data types of our variables, to ensure they have been imported correctly.\n",
        "For example, it's imporant to make sure that `DEP_DELAY`, which is our main numeric variable is a float and not a string."
      ]
    },
    {
      "cell_type": "code",
      "metadata": {
        "id": "-iBJobNVPnMd",
        "colab_type": "code",
        "outputId": "2417335d-4953-4b86-df57-659f60a49761",
        "colab": {}
      },
      "source": [
        "flights.dtypes # Examining the data type of each variable."
      ],
      "execution_count": 0,
      "outputs": [
        {
          "output_type": "execute_result",
          "data": {
            "text/plain": [
              "FL_DATE                 object\n",
              "TAIL_NUM                object\n",
              "CARRIER                 object\n",
              "ORIGIN                  object\n",
              "ORIGIN_CITY_NAME        object\n",
              "DEST                    object\n",
              "DEST_CITY_NAME          object\n",
              "DEP_TIME               float64\n",
              "DEP_DELAY              float64\n",
              "ARR_TIME               float64\n",
              "ARR_DELAY              float64\n",
              "CANCELLED              float64\n",
              "CANCELLATION_CODE       object\n",
              "DIVERTED               float64\n",
              "CARRIER_DELAY          float64\n",
              "WEATHER_DELAY          float64\n",
              "NAS_DELAY              float64\n",
              "SECURITY_DELAY         float64\n",
              "LATE_AIRCRAFT_DELAY    float64\n",
              "Unnamed: 19            float64\n",
              "dtype: object"
            ]
          },
          "metadata": {
            "tags": []
          },
          "execution_count": 606
        }
      ]
    },
    {
      "cell_type": "markdown",
      "metadata": {
        "id": "IcLzpGlOPnMj",
        "colab_type": "text"
      },
      "source": [
        "## Task 1\n",
        "\n",
        "> Provide a \"misery index\" for airports. That is, sort the airports in descending order of the probability that a flight departing from that airport has a delay. Take care of outliers: some airports may have a preposterously low number of flights. We are not interested in them. Your criterion for outliers will be the airports in the lowest 1% percentile in the number of flights.\n",
        "> \n",
        "> After you have done that, go around your data again, but this time you will show the average and median delay for each airport. You may sort the results by either.\n",
        ">\n",
        "> Finally, enrich your airport misery index by tabulating both the probability, in descending order, that you will experience a delay at a given airport, and the average and median delay that you are likely to experience. \n"
      ]
    },
    {
      "cell_type": "markdown",
      "metadata": {
        "id": "YzPx4zOfPnMk",
        "colab_type": "text"
      },
      "source": [
        "### Task 1a: Calculate a Misery Index for each airport"
      ]
    },
    {
      "cell_type": "markdown",
      "metadata": {
        "id": "qYnbgsC6PnMl",
        "colab_type": "text"
      },
      "source": [
        "Before we begin the calculcation of the Misery Index, we need to get rid of outliers, using as a criterion, the lowest 1% percentile in the number of flights. \n",
        "\n",
        "To do that we will\n",
        "* Group the dataset by the flight ORIGIN\n",
        "* Find out what is the 1% threshold for No. of flights\n",
        "* Keep only the groups with number of flights greater or equal than the threshold\n"
      ]
    },
    {
      "cell_type": "code",
      "metadata": {
        "id": "mUWhtW-zPnMn",
        "colab_type": "code",
        "outputId": "5dfc70f9-71dc-4cc9-b912-0675a8533e40",
        "colab": {}
      },
      "source": [
        "# We start by creating a new dataframe, grouped by the ORIGIN value.\n",
        "flights_grouped = pd.DataFrame(flights.groupby('ORIGIN').size()) #using the size() function, we get a table with the number of records per Origin (airport).\n",
        "flights_grouped.head(10)\n"
      ],
      "execution_count": 0,
      "outputs": [
        {
          "output_type": "execute_result",
          "data": {
            "text/html": [
              "<div>\n",
              "<style scoped>\n",
              "    .dataframe tbody tr th:only-of-type {\n",
              "        vertical-align: middle;\n",
              "    }\n",
              "\n",
              "    .dataframe tbody tr th {\n",
              "        vertical-align: top;\n",
              "    }\n",
              "\n",
              "    .dataframe thead th {\n",
              "        text-align: right;\n",
              "    }\n",
              "</style>\n",
              "<table border=\"1\" class=\"dataframe\">\n",
              "  <thead>\n",
              "    <tr style=\"text-align: right;\">\n",
              "      <th></th>\n",
              "      <th>0</th>\n",
              "    </tr>\n",
              "    <tr>\n",
              "      <th>ORIGIN</th>\n",
              "      <th></th>\n",
              "    </tr>\n",
              "  </thead>\n",
              "  <tbody>\n",
              "    <tr>\n",
              "      <th>ABE</th>\n",
              "      <td>2138</td>\n",
              "    </tr>\n",
              "    <tr>\n",
              "      <th>ABI</th>\n",
              "      <td>42</td>\n",
              "    </tr>\n",
              "    <tr>\n",
              "      <th>ABQ</th>\n",
              "      <td>19060</td>\n",
              "    </tr>\n",
              "    <tr>\n",
              "      <th>ABR</th>\n",
              "      <td>728</td>\n",
              "    </tr>\n",
              "    <tr>\n",
              "      <th>ABY</th>\n",
              "      <td>621</td>\n",
              "    </tr>\n",
              "    <tr>\n",
              "      <th>ACK</th>\n",
              "      <td>665</td>\n",
              "    </tr>\n",
              "    <tr>\n",
              "      <th>ACT</th>\n",
              "      <td>339</td>\n",
              "    </tr>\n",
              "    <tr>\n",
              "      <th>ACV</th>\n",
              "      <td>1202</td>\n",
              "    </tr>\n",
              "    <tr>\n",
              "      <th>ACY</th>\n",
              "      <td>3511</td>\n",
              "    </tr>\n",
              "    <tr>\n",
              "      <th>ADK</th>\n",
              "      <td>104</td>\n",
              "    </tr>\n",
              "  </tbody>\n",
              "</table>\n",
              "</div>"
            ],
            "text/plain": [
              "            0\n",
              "ORIGIN       \n",
              "ABE      2138\n",
              "ABI        42\n",
              "ABQ     19060\n",
              "ABR       728\n",
              "ABY       621\n",
              "ACK       665\n",
              "ACT       339\n",
              "ACV      1202\n",
              "ACY      3511\n",
              "ADK       104"
            ]
          },
          "metadata": {
            "tags": []
          },
          "execution_count": 607
        }
      ]
    },
    {
      "cell_type": "code",
      "metadata": {
        "id": "pKwAgeLQPnMt",
        "colab_type": "code",
        "outputId": "57115279-25bf-4c62-b089-8e265cd484a0",
        "colab": {}
      },
      "source": [
        "# Renaming the numeric column to 'No.Flights'\n",
        "flights_grouped = flights_grouped.rename(columns = {flights_grouped.columns[0]:'No.Flights'})\n",
        "flights_grouped.head(10)"
      ],
      "execution_count": 0,
      "outputs": [
        {
          "output_type": "execute_result",
          "data": {
            "text/html": [
              "<div>\n",
              "<style scoped>\n",
              "    .dataframe tbody tr th:only-of-type {\n",
              "        vertical-align: middle;\n",
              "    }\n",
              "\n",
              "    .dataframe tbody tr th {\n",
              "        vertical-align: top;\n",
              "    }\n",
              "\n",
              "    .dataframe thead th {\n",
              "        text-align: right;\n",
              "    }\n",
              "</style>\n",
              "<table border=\"1\" class=\"dataframe\">\n",
              "  <thead>\n",
              "    <tr style=\"text-align: right;\">\n",
              "      <th></th>\n",
              "      <th>No.Flights</th>\n",
              "    </tr>\n",
              "    <tr>\n",
              "      <th>ORIGIN</th>\n",
              "      <th></th>\n",
              "    </tr>\n",
              "  </thead>\n",
              "  <tbody>\n",
              "    <tr>\n",
              "      <th>ABE</th>\n",
              "      <td>2138</td>\n",
              "    </tr>\n",
              "    <tr>\n",
              "      <th>ABI</th>\n",
              "      <td>42</td>\n",
              "    </tr>\n",
              "    <tr>\n",
              "      <th>ABQ</th>\n",
              "      <td>19060</td>\n",
              "    </tr>\n",
              "    <tr>\n",
              "      <th>ABR</th>\n",
              "      <td>728</td>\n",
              "    </tr>\n",
              "    <tr>\n",
              "      <th>ABY</th>\n",
              "      <td>621</td>\n",
              "    </tr>\n",
              "    <tr>\n",
              "      <th>ACK</th>\n",
              "      <td>665</td>\n",
              "    </tr>\n",
              "    <tr>\n",
              "      <th>ACT</th>\n",
              "      <td>339</td>\n",
              "    </tr>\n",
              "    <tr>\n",
              "      <th>ACV</th>\n",
              "      <td>1202</td>\n",
              "    </tr>\n",
              "    <tr>\n",
              "      <th>ACY</th>\n",
              "      <td>3511</td>\n",
              "    </tr>\n",
              "    <tr>\n",
              "      <th>ADK</th>\n",
              "      <td>104</td>\n",
              "    </tr>\n",
              "  </tbody>\n",
              "</table>\n",
              "</div>"
            ],
            "text/plain": [
              "        No.Flights\n",
              "ORIGIN            \n",
              "ABE           2138\n",
              "ABI             42\n",
              "ABQ          19060\n",
              "ABR            728\n",
              "ABY            621\n",
              "ACK            665\n",
              "ACT            339\n",
              "ACV           1202\n",
              "ACY           3511\n",
              "ADK            104"
            ]
          },
          "metadata": {
            "tags": []
          },
          "execution_count": 608
        }
      ]
    },
    {
      "cell_type": "code",
      "metadata": {
        "id": "CGgbl64dPnMy",
        "colab_type": "code",
        "outputId": "a7e05b18-64e7-4cfc-ca0d-8f8b10e06a8d",
        "colab": {}
      },
      "source": [
        "# Identifying the threshold for the lower 1% in number of flights\n",
        "threshold = flights_grouped['No.Flights'].quantile(0.01); threshold"
      ],
      "execution_count": 0,
      "outputs": [
        {
          "output_type": "execute_result",
          "data": {
            "text/plain": [
              "11.799999999999999"
            ]
          },
          "metadata": {
            "tags": []
          },
          "execution_count": 609
        }
      ]
    },
    {
      "cell_type": "markdown",
      "metadata": {
        "id": "blD9BUmrPnM1",
        "colab_type": "text"
      },
      "source": [
        "The 1% threshold is ~11.8. So, we need to remove from the dataset all the ORIGIN groups (airports) that have less thatn 11.8 flights. With a quick sorting of our dataset, we can see that 4 airports need to be removed, with a total of 17 observations."
      ]
    },
    {
      "cell_type": "code",
      "metadata": {
        "id": "xro3GWetPnM1",
        "colab_type": "code",
        "outputId": "99674c2d-38fe-439d-cfec-698af40c155f",
        "colab": {}
      },
      "source": [
        "flights_grouped.sort_values(by='No.Flights', ascending=True).head(10)"
      ],
      "execution_count": 0,
      "outputs": [
        {
          "output_type": "execute_result",
          "data": {
            "text/html": [
              "<div>\n",
              "<style scoped>\n",
              "    .dataframe tbody tr th:only-of-type {\n",
              "        vertical-align: middle;\n",
              "    }\n",
              "\n",
              "    .dataframe tbody tr th {\n",
              "        vertical-align: top;\n",
              "    }\n",
              "\n",
              "    .dataframe thead th {\n",
              "        text-align: right;\n",
              "    }\n",
              "</style>\n",
              "<table border=\"1\" class=\"dataframe\">\n",
              "  <thead>\n",
              "    <tr style=\"text-align: right;\">\n",
              "      <th></th>\n",
              "      <th>No.Flights</th>\n",
              "    </tr>\n",
              "    <tr>\n",
              "      <th>ORIGIN</th>\n",
              "      <th></th>\n",
              "    </tr>\n",
              "  </thead>\n",
              "  <tbody>\n",
              "    <tr>\n",
              "      <th>SWO</th>\n",
              "      <td>1</td>\n",
              "    </tr>\n",
              "    <tr>\n",
              "      <th>TKI</th>\n",
              "      <td>1</td>\n",
              "    </tr>\n",
              "    <tr>\n",
              "      <th>BPT</th>\n",
              "      <td>7</td>\n",
              "    </tr>\n",
              "    <tr>\n",
              "      <th>GGG</th>\n",
              "      <td>8</td>\n",
              "    </tr>\n",
              "    <tr>\n",
              "      <th>SUX</th>\n",
              "      <td>28</td>\n",
              "    </tr>\n",
              "    <tr>\n",
              "      <th>ABI</th>\n",
              "      <td>42</td>\n",
              "    </tr>\n",
              "    <tr>\n",
              "      <th>CGI</th>\n",
              "      <td>50</td>\n",
              "    </tr>\n",
              "    <tr>\n",
              "      <th>PUB</th>\n",
              "      <td>51</td>\n",
              "    </tr>\n",
              "    <tr>\n",
              "      <th>AKN</th>\n",
              "      <td>63</td>\n",
              "    </tr>\n",
              "    <tr>\n",
              "      <th>UST</th>\n",
              "      <td>66</td>\n",
              "    </tr>\n",
              "  </tbody>\n",
              "</table>\n",
              "</div>"
            ],
            "text/plain": [
              "        No.Flights\n",
              "ORIGIN            \n",
              "SWO              1\n",
              "TKI              1\n",
              "BPT              7\n",
              "GGG              8\n",
              "SUX             28\n",
              "ABI             42\n",
              "CGI             50\n",
              "PUB             51\n",
              "AKN             63\n",
              "UST             66"
            ]
          },
          "metadata": {
            "tags": []
          },
          "execution_count": 610
        }
      ]
    },
    {
      "cell_type": "code",
      "metadata": {
        "id": "z7cJhPOiPnNe",
        "colab_type": "code",
        "outputId": "c223181d-202f-4347-e3fb-b27f7fe43e5f",
        "colab": {}
      },
      "source": [
        "# Transforming the original dataset, in order to keep only the \n",
        "col = 'ORIGIN'\n",
        "flights = flights[flights.groupby(col)[col].transform('count').ge(threshold)]\n",
        "len(flights)"
      ],
      "execution_count": 0,
      "outputs": [
        {
          "output_type": "execute_result",
          "data": {
            "text/plain": [
              "5674604"
            ]
          },
          "metadata": {
            "tags": []
          },
          "execution_count": 611
        }
      ]
    },
    {
      "cell_type": "markdown",
      "metadata": {
        "id": "mSH39HS5PnNi",
        "colab_type": "text"
      },
      "source": [
        "We can confirm, using the length of the dataset, that 17 observations have been removed, as we expected.\n",
        "By updating and sorting the grouped dataset, we can confirm that the 4 airports with the lowest 1% of observations are the ones removed."
      ]
    },
    {
      "cell_type": "code",
      "metadata": {
        "id": "8dRnDJZGPnNj",
        "colab_type": "code",
        "outputId": "6030fb32-6a7f-4ddf-cf63-c34376e5ded8",
        "colab": {}
      },
      "source": [
        "flights_grouped = pd.DataFrame(flights.groupby('ORIGIN').size())\n",
        "flights_grouped = flights_grouped.rename(columns = {flights_grouped.columns[0]:'No.Flights'})\n",
        "flights_grouped.sort_values(by='No.Flights', ascending=True).head(10)"
      ],
      "execution_count": 0,
      "outputs": [
        {
          "output_type": "execute_result",
          "data": {
            "text/html": [
              "<div>\n",
              "<style scoped>\n",
              "    .dataframe tbody tr th:only-of-type {\n",
              "        vertical-align: middle;\n",
              "    }\n",
              "\n",
              "    .dataframe tbody tr th {\n",
              "        vertical-align: top;\n",
              "    }\n",
              "\n",
              "    .dataframe thead th {\n",
              "        text-align: right;\n",
              "    }\n",
              "</style>\n",
              "<table border=\"1\" class=\"dataframe\">\n",
              "  <thead>\n",
              "    <tr style=\"text-align: right;\">\n",
              "      <th></th>\n",
              "      <th>No.Flights</th>\n",
              "    </tr>\n",
              "    <tr>\n",
              "      <th>ORIGIN</th>\n",
              "      <th></th>\n",
              "    </tr>\n",
              "  </thead>\n",
              "  <tbody>\n",
              "    <tr>\n",
              "      <th>SUX</th>\n",
              "      <td>28</td>\n",
              "    </tr>\n",
              "    <tr>\n",
              "      <th>ABI</th>\n",
              "      <td>42</td>\n",
              "    </tr>\n",
              "    <tr>\n",
              "      <th>CGI</th>\n",
              "      <td>50</td>\n",
              "    </tr>\n",
              "    <tr>\n",
              "      <th>PUB</th>\n",
              "      <td>51</td>\n",
              "    </tr>\n",
              "    <tr>\n",
              "      <th>AKN</th>\n",
              "      <td>63</td>\n",
              "    </tr>\n",
              "    <tr>\n",
              "      <th>UST</th>\n",
              "      <td>66</td>\n",
              "    </tr>\n",
              "    <tr>\n",
              "      <th>TXK</th>\n",
              "      <td>75</td>\n",
              "    </tr>\n",
              "    <tr>\n",
              "      <th>UIN</th>\n",
              "      <td>76</td>\n",
              "    </tr>\n",
              "    <tr>\n",
              "      <th>DLG</th>\n",
              "      <td>84</td>\n",
              "    </tr>\n",
              "    <tr>\n",
              "      <th>GST</th>\n",
              "      <td>84</td>\n",
              "    </tr>\n",
              "  </tbody>\n",
              "</table>\n",
              "</div>"
            ],
            "text/plain": [
              "        No.Flights\n",
              "ORIGIN            \n",
              "SUX             28\n",
              "ABI             42\n",
              "CGI             50\n",
              "PUB             51\n",
              "AKN             63\n",
              "UST             66\n",
              "TXK             75\n",
              "UIN             76\n",
              "DLG             84\n",
              "GST             84"
            ]
          },
          "metadata": {
            "tags": []
          },
          "execution_count": 612
        }
      ]
    },
    {
      "cell_type": "markdown",
      "metadata": {
        "id": "91xtq-_KPnOT",
        "colab_type": "text"
      },
      "source": [
        "After having removed the outliers, it's time to calculate the Misery Index for each airport (ORIGIN).\n",
        "* **Step 1:** We will separate the number of delayed flights per airport (ORIGIN) from the rest of the dataset. As a selection criterion for delayed flights, we are going to be strict and use all the flights with positive (>0) value in the `DEP_DELAY` column.\n",
        "* **Step 2:** We will calculate the total number of flights per airport (ORIGIN).\n",
        "* **Step 3:** We will join these two columns in a new Data Frame\n",
        "* **Step 4:** We will create a new column with the (rounded) ratio of the No. of Delayed flights divided by the Total No. of flights."
      ]
    },
    {
      "cell_type": "code",
      "metadata": {
        "id": "i3NDqE3kPnOU",
        "colab_type": "code",
        "outputId": "2a2e97ff-03af-4e1f-c456-d398c7f0265d",
        "colab": {}
      },
      "source": [
        "# Separating the number of delayed flights per airport (ORIGIN) in a new object called 'delayed'\n",
        "delayed = flights[flights['DEP_DELAY'] > 0].groupby(['ORIGIN']).size();\n",
        "delayed.head(15)"
      ],
      "execution_count": 0,
      "outputs": [
        {
          "output_type": "execute_result",
          "data": {
            "text/plain": [
              "ORIGIN\n",
              "ABE     549\n",
              "ABI      15\n",
              "ABQ    6753\n",
              "ABR     202\n",
              "ABY     161\n",
              "ACK     362\n",
              "ACT      80\n",
              "ACV     368\n",
              "ACY     816\n",
              "ADK      43\n",
              "ADQ     126\n",
              "AEX     348\n",
              "AGS     678\n",
              "AKN      14\n",
              "ALB    3094\n",
              "dtype: int64"
            ]
          },
          "metadata": {
            "tags": []
          },
          "execution_count": 613
        }
      ]
    },
    {
      "cell_type": "code",
      "metadata": {
        "id": "pDtOdWYGPnOY",
        "colab_type": "code",
        "outputId": "8e302d9b-965f-4a86-c192-233ce58f3c84",
        "colab": {}
      },
      "source": [
        "# Calculating the total no. of flights for each airport (ORIGIN)\n",
        "total_flights = flights.groupby(['ORIGIN']).size();\n",
        "total_flights.head(15)"
      ],
      "execution_count": 0,
      "outputs": [
        {
          "output_type": "execute_result",
          "data": {
            "text/plain": [
              "ORIGIN\n",
              "ABE     2138\n",
              "ABI       42\n",
              "ABQ    19060\n",
              "ABR      728\n",
              "ABY      621\n",
              "ACK      665\n",
              "ACT      339\n",
              "ACV     1202\n",
              "ACY     3511\n",
              "ADK      104\n",
              "ADQ      621\n",
              "AEX     1848\n",
              "AGS     2133\n",
              "AKN       63\n",
              "ALB     9403\n",
              "dtype: int64"
            ]
          },
          "metadata": {
            "tags": []
          },
          "execution_count": 614
        }
      ]
    },
    {
      "cell_type": "code",
      "metadata": {
        "id": "eLuD58eBPnOb",
        "colab_type": "code",
        "outputId": "47038020-680d-48a4-a406-d04aa97b1741",
        "colab": {}
      },
      "source": [
        "# Merging the two columns in a new data frame called \"airport_misery\".\n",
        "airport_misery = pd.DataFrame({'Delayed':delayed, 'Total_Flights':total_flights})\n",
        "\n",
        "# Creating a new column, called \"Misery_Index\" with the ratio of Delayed/Total flights\n",
        "airport_misery['Misery_Index'] = round((airport_misery['Delayed'] / airport_misery['Total_Flights'])*100, 2)\n",
        "\n",
        "# Viewing the results, sorted by the newly-calculated Misery_Index, in descending order.\n",
        "airport_misery.sort_values(by='Misery_Index', ascending=False).head(15)"
      ],
      "execution_count": 0,
      "outputs": [
        {
          "output_type": "execute_result",
          "data": {
            "text/html": [
              "<div>\n",
              "<style scoped>\n",
              "    .dataframe tbody tr th:only-of-type {\n",
              "        vertical-align: middle;\n",
              "    }\n",
              "\n",
              "    .dataframe tbody tr th {\n",
              "        vertical-align: top;\n",
              "    }\n",
              "\n",
              "    .dataframe thead th {\n",
              "        text-align: right;\n",
              "    }\n",
              "</style>\n",
              "<table border=\"1\" class=\"dataframe\">\n",
              "  <thead>\n",
              "    <tr style=\"text-align: right;\">\n",
              "      <th></th>\n",
              "      <th>Delayed</th>\n",
              "      <th>Total_Flights</th>\n",
              "      <th>Misery_Index</th>\n",
              "    </tr>\n",
              "    <tr>\n",
              "      <th>ORIGIN</th>\n",
              "      <th></th>\n",
              "      <th></th>\n",
              "      <th></th>\n",
              "    </tr>\n",
              "  </thead>\n",
              "  <tbody>\n",
              "    <tr>\n",
              "      <th>MVY</th>\n",
              "      <td>158</td>\n",
              "      <td>241</td>\n",
              "      <td>65.56</td>\n",
              "    </tr>\n",
              "    <tr>\n",
              "      <th>UST</th>\n",
              "      <td>39</td>\n",
              "      <td>66</td>\n",
              "      <td>59.09</td>\n",
              "    </tr>\n",
              "    <tr>\n",
              "      <th>HYA</th>\n",
              "      <td>52</td>\n",
              "      <td>94</td>\n",
              "      <td>55.32</td>\n",
              "    </tr>\n",
              "    <tr>\n",
              "      <th>ACK</th>\n",
              "      <td>362</td>\n",
              "      <td>665</td>\n",
              "      <td>54.44</td>\n",
              "    </tr>\n",
              "    <tr>\n",
              "      <th>DAL</th>\n",
              "      <td>36123</td>\n",
              "      <td>69536</td>\n",
              "      <td>51.95</td>\n",
              "    </tr>\n",
              "    <tr>\n",
              "      <th>BQN</th>\n",
              "      <td>870</td>\n",
              "      <td>1710</td>\n",
              "      <td>50.88</td>\n",
              "    </tr>\n",
              "    <tr>\n",
              "      <th>HOU</th>\n",
              "      <td>26410</td>\n",
              "      <td>54421</td>\n",
              "      <td>48.53</td>\n",
              "    </tr>\n",
              "    <tr>\n",
              "      <th>OAK</th>\n",
              "      <td>23911</td>\n",
              "      <td>50451</td>\n",
              "      <td>47.39</td>\n",
              "    </tr>\n",
              "    <tr>\n",
              "      <th>MDW</th>\n",
              "      <td>41253</td>\n",
              "      <td>87203</td>\n",
              "      <td>47.31</td>\n",
              "    </tr>\n",
              "    <tr>\n",
              "      <th>OTH</th>\n",
              "      <td>138</td>\n",
              "      <td>303</td>\n",
              "      <td>45.54</td>\n",
              "    </tr>\n",
              "    <tr>\n",
              "      <th>GUM</th>\n",
              "      <td>164</td>\n",
              "      <td>365</td>\n",
              "      <td>44.93</td>\n",
              "    </tr>\n",
              "    <tr>\n",
              "      <th>WYS</th>\n",
              "      <td>103</td>\n",
              "      <td>232</td>\n",
              "      <td>44.40</td>\n",
              "    </tr>\n",
              "    <tr>\n",
              "      <th>SUX</th>\n",
              "      <td>12</td>\n",
              "      <td>28</td>\n",
              "      <td>42.86</td>\n",
              "    </tr>\n",
              "    <tr>\n",
              "      <th>LAX</th>\n",
              "      <td>90729</td>\n",
              "      <td>214297</td>\n",
              "      <td>42.34</td>\n",
              "    </tr>\n",
              "    <tr>\n",
              "      <th>LAS</th>\n",
              "      <td>63610</td>\n",
              "      <td>151720</td>\n",
              "      <td>41.93</td>\n",
              "    </tr>\n",
              "  </tbody>\n",
              "</table>\n",
              "</div>"
            ],
            "text/plain": [
              "        Delayed  Total_Flights  Misery_Index\n",
              "ORIGIN                                      \n",
              "MVY         158            241         65.56\n",
              "UST          39             66         59.09\n",
              "HYA          52             94         55.32\n",
              "ACK         362            665         54.44\n",
              "DAL       36123          69536         51.95\n",
              "BQN         870           1710         50.88\n",
              "HOU       26410          54421         48.53\n",
              "OAK       23911          50451         47.39\n",
              "MDW       41253          87203         47.31\n",
              "OTH         138            303         45.54\n",
              "GUM         164            365         44.93\n",
              "WYS         103            232         44.40\n",
              "SUX          12             28         42.86\n",
              "LAX       90729         214297         42.34\n",
              "LAS       63610         151720         41.93"
            ]
          },
          "metadata": {
            "tags": []
          },
          "execution_count": 615
        }
      ]
    },
    {
      "cell_type": "markdown",
      "metadata": {
        "id": "yFQ2MEFtPnQK",
        "colab_type": "text"
      },
      "source": [
        "### Task 1b: Average & Mean"
      ]
    },
    {
      "cell_type": "markdown",
      "metadata": {
        "id": "KqrmvPz6PnQN",
        "colab_type": "text"
      },
      "source": [
        "This time, we want to show the average and median delay for each airport. To do that, we will use the original data frame, grouped by `ORIGIN` and the `.agg` function to get the mean and median for the `DEP_DELAY` column. Finally, we will sort the table in ascending order according to the Average Departure Delay, meaning that the airports on top will be the ones that have the least delay time on average."
      ]
    },
    {
      "cell_type": "code",
      "metadata": {
        "id": "auGFZCzePnQO",
        "colab_type": "code",
        "outputId": "257b6c21-779a-44f3-854b-3113ee75ee82",
        "colab": {}
      },
      "source": [
        "# Extracting the mean and median of the 'DEP_DELAY' column for each airport, sorted in ascending order of the mean.\n",
        "airport_delay = flights.groupby(['ORIGIN'])['DEP_DELAY'].agg(['mean', 'median']).sort_values(by='mean', ascending=True)\n",
        "\n",
        "# Renaming the columns, so that the results are comprehensible.\n",
        "airport_delay = airport_delay.rename(columns = {airport_delay.columns[0]:'Avg Dep. Delay', airport_delay.columns[1]:'Median Dep. Delay'})\n",
        "\n",
        "# Viewing the top 15 rows of the new table\n",
        "airport_delay.head(15)\n"
      ],
      "execution_count": 0,
      "outputs": [
        {
          "output_type": "execute_result",
          "data": {
            "text/html": [
              "<div>\n",
              "<style scoped>\n",
              "    .dataframe tbody tr th:only-of-type {\n",
              "        vertical-align: middle;\n",
              "    }\n",
              "\n",
              "    .dataframe tbody tr th {\n",
              "        vertical-align: top;\n",
              "    }\n",
              "\n",
              "    .dataframe thead th {\n",
              "        text-align: right;\n",
              "    }\n",
              "</style>\n",
              "<table border=\"1\" class=\"dataframe\">\n",
              "  <thead>\n",
              "    <tr style=\"text-align: right;\">\n",
              "      <th></th>\n",
              "      <th>Avg Dep. Delay</th>\n",
              "      <th>Median Dep. Delay</th>\n",
              "    </tr>\n",
              "    <tr>\n",
              "      <th>ORIGIN</th>\n",
              "      <th></th>\n",
              "      <th></th>\n",
              "    </tr>\n",
              "  </thead>\n",
              "  <tbody>\n",
              "    <tr>\n",
              "      <th>YAK</th>\n",
              "      <td>-6.954738</td>\n",
              "      <td>-14.0</td>\n",
              "    </tr>\n",
              "    <tr>\n",
              "      <th>BET</th>\n",
              "      <td>-5.388651</td>\n",
              "      <td>-11.0</td>\n",
              "    </tr>\n",
              "    <tr>\n",
              "      <th>DLG</th>\n",
              "      <td>-5.285714</td>\n",
              "      <td>-9.0</td>\n",
              "    </tr>\n",
              "    <tr>\n",
              "      <th>AKN</th>\n",
              "      <td>-4.809524</td>\n",
              "      <td>-7.0</td>\n",
              "    </tr>\n",
              "    <tr>\n",
              "      <th>CDV</th>\n",
              "      <td>-4.761972</td>\n",
              "      <td>-12.0</td>\n",
              "    </tr>\n",
              "    <tr>\n",
              "      <th>SCC</th>\n",
              "      <td>-4.043847</td>\n",
              "      <td>-11.0</td>\n",
              "    </tr>\n",
              "    <tr>\n",
              "      <th>BRW</th>\n",
              "      <td>-3.923777</td>\n",
              "      <td>-10.0</td>\n",
              "    </tr>\n",
              "    <tr>\n",
              "      <th>OME</th>\n",
              "      <td>-3.337192</td>\n",
              "      <td>-9.0</td>\n",
              "    </tr>\n",
              "    <tr>\n",
              "      <th>CPR</th>\n",
              "      <td>-3.310087</td>\n",
              "      <td>-9.0</td>\n",
              "    </tr>\n",
              "    <tr>\n",
              "      <th>PSG</th>\n",
              "      <td>-2.518258</td>\n",
              "      <td>-11.0</td>\n",
              "    </tr>\n",
              "    <tr>\n",
              "      <th>WRG</th>\n",
              "      <td>-2.478992</td>\n",
              "      <td>-12.0</td>\n",
              "    </tr>\n",
              "    <tr>\n",
              "      <th>ADK</th>\n",
              "      <td>-2.397959</td>\n",
              "      <td>-3.5</td>\n",
              "    </tr>\n",
              "    <tr>\n",
              "      <th>GST</th>\n",
              "      <td>-2.237500</td>\n",
              "      <td>-9.0</td>\n",
              "    </tr>\n",
              "    <tr>\n",
              "      <th>ADQ</th>\n",
              "      <td>-1.936242</td>\n",
              "      <td>-9.0</td>\n",
              "    </tr>\n",
              "    <tr>\n",
              "      <th>LWS</th>\n",
              "      <td>-1.761651</td>\n",
              "      <td>-10.0</td>\n",
              "    </tr>\n",
              "  </tbody>\n",
              "</table>\n",
              "</div>"
            ],
            "text/plain": [
              "        Avg Dep. Delay  Median Dep. Delay\n",
              "ORIGIN                                   \n",
              "YAK          -6.954738              -14.0\n",
              "BET          -5.388651              -11.0\n",
              "DLG          -5.285714               -9.0\n",
              "AKN          -4.809524               -7.0\n",
              "CDV          -4.761972              -12.0\n",
              "SCC          -4.043847              -11.0\n",
              "BRW          -3.923777              -10.0\n",
              "OME          -3.337192               -9.0\n",
              "CPR          -3.310087               -9.0\n",
              "PSG          -2.518258              -11.0\n",
              "WRG          -2.478992              -12.0\n",
              "ADK          -2.397959               -3.5\n",
              "GST          -2.237500               -9.0\n",
              "ADQ          -1.936242               -9.0\n",
              "LWS          -1.761651              -10.0"
            ]
          },
          "metadata": {
            "tags": []
          },
          "execution_count": 616
        }
      ]
    },
    {
      "cell_type": "markdown",
      "metadata": {
        "id": "4qoQnAnPPnQS",
        "colab_type": "text"
      },
      "source": [
        "### Task 1c: Create a joint table"
      ]
    },
    {
      "cell_type": "markdown",
      "metadata": {
        "id": "SodGJWvDPnQV",
        "colab_type": "text"
      },
      "source": [
        "Finally, we want to get for each airport the probability, in descending order, that we will experience a delay at a given airport, but also the average and median delay that we are likely to experience.\n",
        "\n",
        "To do that, the quickest way is to concatenate in a new Data Frame:\n",
        "1. The `Misery_Index` column from question 1a, and\n",
        "2. The `airport_delay` table from question 1b, which includes the `Avg.Dep Delay` and `Median Dep Delay` columns\n",
        "\n"
      ]
    },
    {
      "cell_type": "code",
      "metadata": {
        "id": "sWsDcpqlPnQY",
        "colab_type": "code",
        "outputId": "ae96320e-fe81-4239-ebb4-239f1071c815",
        "colab": {}
      },
      "source": [
        "airport_data = pd.concat([airport_delay, airport_misery['Misery_Index']], axis=1).sort_values(by='Misery_Index', ascending=False)\n",
        "airport_data.head(15)"
      ],
      "execution_count": 0,
      "outputs": [
        {
          "output_type": "execute_result",
          "data": {
            "text/html": [
              "<div>\n",
              "<style scoped>\n",
              "    .dataframe tbody tr th:only-of-type {\n",
              "        vertical-align: middle;\n",
              "    }\n",
              "\n",
              "    .dataframe tbody tr th {\n",
              "        vertical-align: top;\n",
              "    }\n",
              "\n",
              "    .dataframe thead th {\n",
              "        text-align: right;\n",
              "    }\n",
              "</style>\n",
              "<table border=\"1\" class=\"dataframe\">\n",
              "  <thead>\n",
              "    <tr style=\"text-align: right;\">\n",
              "      <th></th>\n",
              "      <th>Avg Dep. Delay</th>\n",
              "      <th>Median Dep. Delay</th>\n",
              "      <th>Misery_Index</th>\n",
              "    </tr>\n",
              "  </thead>\n",
              "  <tbody>\n",
              "    <tr>\n",
              "      <th>MVY</th>\n",
              "      <td>34.631356</td>\n",
              "      <td>11.0</td>\n",
              "      <td>65.56</td>\n",
              "    </tr>\n",
              "    <tr>\n",
              "      <th>UST</th>\n",
              "      <td>59.369231</td>\n",
              "      <td>14.0</td>\n",
              "      <td>59.09</td>\n",
              "    </tr>\n",
              "    <tr>\n",
              "      <th>HYA</th>\n",
              "      <td>17.182796</td>\n",
              "      <td>2.0</td>\n",
              "      <td>55.32</td>\n",
              "    </tr>\n",
              "    <tr>\n",
              "      <th>ACK</th>\n",
              "      <td>30.203733</td>\n",
              "      <td>4.0</td>\n",
              "      <td>54.44</td>\n",
              "    </tr>\n",
              "    <tr>\n",
              "      <th>DAL</th>\n",
              "      <td>11.562159</td>\n",
              "      <td>1.0</td>\n",
              "      <td>51.95</td>\n",
              "    </tr>\n",
              "    <tr>\n",
              "      <th>BQN</th>\n",
              "      <td>21.169085</td>\n",
              "      <td>3.0</td>\n",
              "      <td>50.88</td>\n",
              "    </tr>\n",
              "    <tr>\n",
              "      <th>HOU</th>\n",
              "      <td>11.111054</td>\n",
              "      <td>1.0</td>\n",
              "      <td>48.53</td>\n",
              "    </tr>\n",
              "    <tr>\n",
              "      <th>OAK</th>\n",
              "      <td>9.418300</td>\n",
              "      <td>0.0</td>\n",
              "      <td>47.39</td>\n",
              "    </tr>\n",
              "    <tr>\n",
              "      <th>MDW</th>\n",
              "      <td>10.960919</td>\n",
              "      <td>0.0</td>\n",
              "      <td>47.31</td>\n",
              "    </tr>\n",
              "    <tr>\n",
              "      <th>OTH</th>\n",
              "      <td>35.880702</td>\n",
              "      <td>0.0</td>\n",
              "      <td>45.54</td>\n",
              "    </tr>\n",
              "    <tr>\n",
              "      <th>GUM</th>\n",
              "      <td>13.601648</td>\n",
              "      <td>0.0</td>\n",
              "      <td>44.93</td>\n",
              "    </tr>\n",
              "    <tr>\n",
              "      <th>WYS</th>\n",
              "      <td>12.716157</td>\n",
              "      <td>-1.0</td>\n",
              "      <td>44.40</td>\n",
              "    </tr>\n",
              "    <tr>\n",
              "      <th>SUX</th>\n",
              "      <td>31.107143</td>\n",
              "      <td>-2.5</td>\n",
              "      <td>42.86</td>\n",
              "    </tr>\n",
              "    <tr>\n",
              "      <th>LAX</th>\n",
              "      <td>12.209399</td>\n",
              "      <td>-1.0</td>\n",
              "      <td>42.34</td>\n",
              "    </tr>\n",
              "    <tr>\n",
              "      <th>LAS</th>\n",
              "      <td>10.602710</td>\n",
              "      <td>-1.0</td>\n",
              "      <td>41.93</td>\n",
              "    </tr>\n",
              "  </tbody>\n",
              "</table>\n",
              "</div>"
            ],
            "text/plain": [
              "     Avg Dep. Delay  Median Dep. Delay  Misery_Index\n",
              "MVY       34.631356               11.0         65.56\n",
              "UST       59.369231               14.0         59.09\n",
              "HYA       17.182796                2.0         55.32\n",
              "ACK       30.203733                4.0         54.44\n",
              "DAL       11.562159                1.0         51.95\n",
              "BQN       21.169085                3.0         50.88\n",
              "HOU       11.111054                1.0         48.53\n",
              "OAK        9.418300                0.0         47.39\n",
              "MDW       10.960919                0.0         47.31\n",
              "OTH       35.880702                0.0         45.54\n",
              "GUM       13.601648                0.0         44.93\n",
              "WYS       12.716157               -1.0         44.40\n",
              "SUX       31.107143               -2.5         42.86\n",
              "LAX       12.209399               -1.0         42.34\n",
              "LAS       10.602710               -1.0         41.93"
            ]
          },
          "metadata": {
            "tags": []
          },
          "execution_count": 617
        }
      ]
    },
    {
      "cell_type": "markdown",
      "metadata": {
        "id": "R7nB-x-oPnQg",
        "colab_type": "text"
      },
      "source": [
        "##Task 2\n",
        "\n",
        "> Provide a \"misery index\" for airlines. That is, do the same thing you did for the airports, but this time we are interested in the airlines that make life difficult for passengers. Sort the airlines in descending order of probability that a flight operated by the airline has a delay. This time we do not care about outliers.\n",
        ">\n",
        "> Then, go around your data again, but this time the criterion will be the average and median delay you may expect to have with an airline. Again we do not care about outliers.\n",
        ">\n",
        "> And finally, as you would expect,  enrich your airline misery index by tabulating both the probability, in descending order, that you will experience a delay flying with a particular airline, and the average and median delay that you are likely to experience.\n",
        ">\n",
        "> Note that because in the 2017 performance data airlines are only indicated by their code, you should also download the carrier lookup table from https://www.transtats.bts.gov/Download_Lookup.asp?Lookup=L_UNIQUE_CARRIERS, so that you can include airline names in your results."
      ]
    },
    {
      "cell_type": "markdown",
      "metadata": {
        "id": "dJrrArbtPnQg",
        "colab_type": "text"
      },
      "source": [
        "Following the same process as the previous question, we will calculate the Misery Index, but this time for each CARRIER.\n",
        "\n",
        "* **Step 1:** We will separate the number of delayed flights per CARRIER from the rest of the dataset. We can calculate the delayed flights using either the Departure Delay, the Arrival Delay, or the Carrier Delay. However, in our dataset, the `CARRIER_DELAY` column includes many <em>NaN</em> values. Therefore, we will choose to use the `DEP_DELAY` column, in order to have results comparable to the previous question. As a selection criterion for delayed flights, we are going to be strict (once again) and use all the flights with positive (>0) value in the `DEP_DELAY` column.\n",
        "* **Step 2:** We will calculate the total number of flights per CARRIER.\n",
        "* **Step 3:** We will join these two columns in a new Data Frame\n",
        "* **Step 4:** We will create a new column with the (rounded) ratio of the No. of Delayed flights divided by the Total No. of flights."
      ]
    },
    {
      "cell_type": "code",
      "metadata": {
        "id": "kKiLqaexPnQi",
        "colab_type": "code",
        "outputId": "50f9fedd-9c40-4f20-e4ff-3e37028ebed8",
        "colab": {}
      },
      "source": [
        "# Re-Importing the dataset, since we no longer care about the outliers\n",
        "flights = pd.read_csv('119734260_T_ONTIME_REPORTING.csv', delimiter=',')\n",
        "#Checking that the dimensions are as expected\n",
        "print(flights.shape)\n",
        "flights.sample(5)"
      ],
      "execution_count": 0,
      "outputs": [
        {
          "output_type": "stream",
          "text": [
            "(5674621, 20)\n"
          ],
          "name": "stdout"
        },
        {
          "output_type": "execute_result",
          "data": {
            "text/html": [
              "<div>\n",
              "<style scoped>\n",
              "    .dataframe tbody tr th:only-of-type {\n",
              "        vertical-align: middle;\n",
              "    }\n",
              "\n",
              "    .dataframe tbody tr th {\n",
              "        vertical-align: top;\n",
              "    }\n",
              "\n",
              "    .dataframe thead th {\n",
              "        text-align: right;\n",
              "    }\n",
              "</style>\n",
              "<table border=\"1\" class=\"dataframe\">\n",
              "  <thead>\n",
              "    <tr style=\"text-align: right;\">\n",
              "      <th></th>\n",
              "      <th>FL_DATE</th>\n",
              "      <th>TAIL_NUM</th>\n",
              "      <th>CARRIER</th>\n",
              "      <th>ORIGIN</th>\n",
              "      <th>ORIGIN_CITY_NAME</th>\n",
              "      <th>DEST</th>\n",
              "      <th>DEST_CITY_NAME</th>\n",
              "      <th>DEP_TIME</th>\n",
              "      <th>DEP_DELAY</th>\n",
              "      <th>ARR_TIME</th>\n",
              "      <th>ARR_DELAY</th>\n",
              "      <th>CANCELLED</th>\n",
              "      <th>CANCELLATION_CODE</th>\n",
              "      <th>DIVERTED</th>\n",
              "      <th>CARRIER_DELAY</th>\n",
              "      <th>WEATHER_DELAY</th>\n",
              "      <th>NAS_DELAY</th>\n",
              "      <th>SECURITY_DELAY</th>\n",
              "      <th>LATE_AIRCRAFT_DELAY</th>\n",
              "      <th>Unnamed: 19</th>\n",
              "    </tr>\n",
              "  </thead>\n",
              "  <tbody>\n",
              "    <tr>\n",
              "      <th>3402050</th>\n",
              "      <td>2017-08-06</td>\n",
              "      <td>N26545</td>\n",
              "      <td>EV</td>\n",
              "      <td>IAH</td>\n",
              "      <td>Houston, TX</td>\n",
              "      <td>MOB</td>\n",
              "      <td>Mobile, AL</td>\n",
              "      <td>1013.0</td>\n",
              "      <td>-2.0</td>\n",
              "      <td>1140.0</td>\n",
              "      <td>-10.0</td>\n",
              "      <td>0.0</td>\n",
              "      <td>NaN</td>\n",
              "      <td>0.0</td>\n",
              "      <td>NaN</td>\n",
              "      <td>NaN</td>\n",
              "      <td>NaN</td>\n",
              "      <td>NaN</td>\n",
              "      <td>NaN</td>\n",
              "      <td>NaN</td>\n",
              "    </tr>\n",
              "    <tr>\n",
              "      <th>4696111</th>\n",
              "      <td>2017-10-27</td>\n",
              "      <td>N8672F</td>\n",
              "      <td>WN</td>\n",
              "      <td>DEN</td>\n",
              "      <td>Denver, CO</td>\n",
              "      <td>MDW</td>\n",
              "      <td>Chicago, IL</td>\n",
              "      <td>1043.0</td>\n",
              "      <td>-2.0</td>\n",
              "      <td>1404.0</td>\n",
              "      <td>4.0</td>\n",
              "      <td>0.0</td>\n",
              "      <td>NaN</td>\n",
              "      <td>0.0</td>\n",
              "      <td>NaN</td>\n",
              "      <td>NaN</td>\n",
              "      <td>NaN</td>\n",
              "      <td>NaN</td>\n",
              "      <td>NaN</td>\n",
              "      <td>NaN</td>\n",
              "    </tr>\n",
              "    <tr>\n",
              "      <th>4994386</th>\n",
              "      <td>2017-11-16</td>\n",
              "      <td>N3GDAA</td>\n",
              "      <td>AA</td>\n",
              "      <td>DFW</td>\n",
              "      <td>Dallas/Fort Worth, TX</td>\n",
              "      <td>DTW</td>\n",
              "      <td>Detroit, MI</td>\n",
              "      <td>1104.0</td>\n",
              "      <td>-3.0</td>\n",
              "      <td>1449.0</td>\n",
              "      <td>6.0</td>\n",
              "      <td>0.0</td>\n",
              "      <td>NaN</td>\n",
              "      <td>0.0</td>\n",
              "      <td>NaN</td>\n",
              "      <td>NaN</td>\n",
              "      <td>NaN</td>\n",
              "      <td>NaN</td>\n",
              "      <td>NaN</td>\n",
              "      <td>NaN</td>\n",
              "    </tr>\n",
              "    <tr>\n",
              "      <th>3801907</th>\n",
              "      <td>2017-08-31</td>\n",
              "      <td>N306JB</td>\n",
              "      <td>B6</td>\n",
              "      <td>BUF</td>\n",
              "      <td>Buffalo, NY</td>\n",
              "      <td>JFK</td>\n",
              "      <td>New York, NY</td>\n",
              "      <td>754.0</td>\n",
              "      <td>-9.0</td>\n",
              "      <td>910.0</td>\n",
              "      <td>-10.0</td>\n",
              "      <td>0.0</td>\n",
              "      <td>NaN</td>\n",
              "      <td>0.0</td>\n",
              "      <td>NaN</td>\n",
              "      <td>NaN</td>\n",
              "      <td>NaN</td>\n",
              "      <td>NaN</td>\n",
              "      <td>NaN</td>\n",
              "      <td>NaN</td>\n",
              "    </tr>\n",
              "    <tr>\n",
              "      <th>3671777</th>\n",
              "      <td>2017-08-22</td>\n",
              "      <td>N804JB</td>\n",
              "      <td>B6</td>\n",
              "      <td>BOS</td>\n",
              "      <td>Boston, MA</td>\n",
              "      <td>DFW</td>\n",
              "      <td>Dallas/Fort Worth, TX</td>\n",
              "      <td>1421.0</td>\n",
              "      <td>-4.0</td>\n",
              "      <td>1728.0</td>\n",
              "      <td>-8.0</td>\n",
              "      <td>0.0</td>\n",
              "      <td>NaN</td>\n",
              "      <td>0.0</td>\n",
              "      <td>NaN</td>\n",
              "      <td>NaN</td>\n",
              "      <td>NaN</td>\n",
              "      <td>NaN</td>\n",
              "      <td>NaN</td>\n",
              "      <td>NaN</td>\n",
              "    </tr>\n",
              "  </tbody>\n",
              "</table>\n",
              "</div>"
            ],
            "text/plain": [
              "            FL_DATE TAIL_NUM CARRIER ORIGIN       ORIGIN_CITY_NAME DEST  \\\n",
              "3402050  2017-08-06   N26545      EV    IAH            Houston, TX  MOB   \n",
              "4696111  2017-10-27   N8672F      WN    DEN             Denver, CO  MDW   \n",
              "4994386  2017-11-16   N3GDAA      AA    DFW  Dallas/Fort Worth, TX  DTW   \n",
              "3801907  2017-08-31   N306JB      B6    BUF            Buffalo, NY  JFK   \n",
              "3671777  2017-08-22   N804JB      B6    BOS             Boston, MA  DFW   \n",
              "\n",
              "                DEST_CITY_NAME  DEP_TIME  DEP_DELAY  ARR_TIME  ARR_DELAY  \\\n",
              "3402050             Mobile, AL    1013.0       -2.0    1140.0      -10.0   \n",
              "4696111            Chicago, IL    1043.0       -2.0    1404.0        4.0   \n",
              "4994386            Detroit, MI    1104.0       -3.0    1449.0        6.0   \n",
              "3801907           New York, NY     754.0       -9.0     910.0      -10.0   \n",
              "3671777  Dallas/Fort Worth, TX    1421.0       -4.0    1728.0       -8.0   \n",
              "\n",
              "         CANCELLED CANCELLATION_CODE  DIVERTED  CARRIER_DELAY  WEATHER_DELAY  \\\n",
              "3402050        0.0               NaN       0.0            NaN            NaN   \n",
              "4696111        0.0               NaN       0.0            NaN            NaN   \n",
              "4994386        0.0               NaN       0.0            NaN            NaN   \n",
              "3801907        0.0               NaN       0.0            NaN            NaN   \n",
              "3671777        0.0               NaN       0.0            NaN            NaN   \n",
              "\n",
              "         NAS_DELAY  SECURITY_DELAY  LATE_AIRCRAFT_DELAY  Unnamed: 19  \n",
              "3402050        NaN             NaN                  NaN          NaN  \n",
              "4696111        NaN             NaN                  NaN          NaN  \n",
              "4994386        NaN             NaN                  NaN          NaN  \n",
              "3801907        NaN             NaN                  NaN          NaN  \n",
              "3671777        NaN             NaN                  NaN          NaN  "
            ]
          },
          "metadata": {
            "tags": []
          },
          "execution_count": 618
        }
      ]
    },
    {
      "cell_type": "code",
      "metadata": {
        "id": "rvu8lEQHPnQm",
        "colab_type": "code",
        "outputId": "1ed6795c-dca9-4e9c-b7f2-2b6004efb8a7",
        "colab": {}
      },
      "source": [
        "# Separating the No. of Delayed flights per CARRIER.\n",
        "delayed = flights[flights['DEP_DELAY'] > 0].groupby(['CARRIER']).size();\n",
        "delayed.head(5)"
      ],
      "execution_count": 0,
      "outputs": [
        {
          "output_type": "execute_result",
          "data": {
            "text/plain": [
              "CARRIER\n",
              "AA    282508\n",
              "AS     49648\n",
              "B6    119115\n",
              "DL    280975\n",
              "EV     94517\n",
              "dtype: int64"
            ]
          },
          "metadata": {
            "tags": []
          },
          "execution_count": 619
        }
      ]
    },
    {
      "cell_type": "code",
      "metadata": {
        "id": "EQ7s7VkWPnQp",
        "colab_type": "code",
        "outputId": "1db73293-5cc3-4391-e845-908642e88b94",
        "colab": {}
      },
      "source": [
        "# Calculating the Total No. of flights per CARRIER.\n",
        "total_flights = flights.groupby(['CARRIER']).size();\n",
        "total_flights.head(5)"
      ],
      "execution_count": 0,
      "outputs": [
        {
          "output_type": "execute_result",
          "data": {
            "text/plain": [
              "CARRIER\n",
              "AA    896348\n",
              "AS    185068\n",
              "B6    298654\n",
              "DL    923560\n",
              "EV    339541\n",
              "dtype: int64"
            ]
          },
          "metadata": {
            "tags": []
          },
          "execution_count": 620
        }
      ]
    },
    {
      "cell_type": "code",
      "metadata": {
        "id": "oRSPqmLmPnQs",
        "colab_type": "code",
        "outputId": "03ab8c76-46ea-4bfd-9f7c-97b526f9d349",
        "colab": {}
      },
      "source": [
        "# Merging the two columns in a new data frame called \"airline_misery\".\n",
        "airline_misery = pd.DataFrame({'Delayed':delayed, 'Total_Flights':total_flights})\n",
        "\n",
        "# Creating a new column, called \"Misery_Index\" with the ratio of Delayed/Total flights\n",
        "airline_misery['Misery_Index'] = round((airline_misery['Delayed'] / airline_misery['Total_Flights'])*100, 2)\n",
        "\n",
        "# Viewing the results, sorted by the newly-calculated Misery_Index, in descending order.\n",
        "airline_misery.sort_values(by='Misery_Index', ascending=False).head(5)"
      ],
      "execution_count": 0,
      "outputs": [
        {
          "output_type": "execute_result",
          "data": {
            "text/html": [
              "<div>\n",
              "<style scoped>\n",
              "    .dataframe tbody tr th:only-of-type {\n",
              "        vertical-align: middle;\n",
              "    }\n",
              "\n",
              "    .dataframe tbody tr th {\n",
              "        vertical-align: top;\n",
              "    }\n",
              "\n",
              "    .dataframe thead th {\n",
              "        text-align: right;\n",
              "    }\n",
              "</style>\n",
              "<table border=\"1\" class=\"dataframe\">\n",
              "  <thead>\n",
              "    <tr style=\"text-align: right;\">\n",
              "      <th></th>\n",
              "      <th>Delayed</th>\n",
              "      <th>Total_Flights</th>\n",
              "      <th>Misery_Index</th>\n",
              "    </tr>\n",
              "    <tr>\n",
              "      <th>CARRIER</th>\n",
              "      <th></th>\n",
              "      <th></th>\n",
              "      <th></th>\n",
              "    </tr>\n",
              "  </thead>\n",
              "  <tbody>\n",
              "    <tr>\n",
              "      <th>WN</th>\n",
              "      <td>615095</td>\n",
              "      <td>1329444</td>\n",
              "      <td>46.27</td>\n",
              "    </tr>\n",
              "    <tr>\n",
              "      <th>VX</th>\n",
              "      <td>28938</td>\n",
              "      <td>70981</td>\n",
              "      <td>40.77</td>\n",
              "    </tr>\n",
              "    <tr>\n",
              "      <th>B6</th>\n",
              "      <td>119115</td>\n",
              "      <td>298654</td>\n",
              "      <td>39.88</td>\n",
              "    </tr>\n",
              "    <tr>\n",
              "      <th>F9</th>\n",
              "      <td>37137</td>\n",
              "      <td>103027</td>\n",
              "      <td>36.05</td>\n",
              "    </tr>\n",
              "    <tr>\n",
              "      <th>AA</th>\n",
              "      <td>282508</td>\n",
              "      <td>896348</td>\n",
              "      <td>31.52</td>\n",
              "    </tr>\n",
              "  </tbody>\n",
              "</table>\n",
              "</div>"
            ],
            "text/plain": [
              "         Delayed  Total_Flights  Misery_Index\n",
              "CARRIER                                      \n",
              "WN        615095        1329444         46.27\n",
              "VX         28938          70981         40.77\n",
              "B6        119115         298654         39.88\n",
              "F9         37137         103027         36.05\n",
              "AA        282508         896348         31.52"
            ]
          },
          "metadata": {
            "tags": []
          },
          "execution_count": 621
        }
      ]
    },
    {
      "cell_type": "markdown",
      "metadata": {
        "id": "b3ieM5h2PnQw",
        "colab_type": "text"
      },
      "source": [
        "This time, we want to show the average and median delay for each CARRIER. To do that, we will use the original data frame, grouped by `ORIGIN` and the `.agg` function to get the mean and median for the `DEP_DELAY` column. Finally, we will sort the table in ascending order according to the Average Departure Delay, meaning that the CARRIERS on top will be the ones that have the least delay time on average."
      ]
    },
    {
      "cell_type": "code",
      "metadata": {
        "id": "mcSMpUPpPnQy",
        "colab_type": "code",
        "outputId": "3922a501-d8e4-48ec-fcf1-a8b8fc0e7a91",
        "colab": {}
      },
      "source": [
        "# Extracting the mean and median of the 'DEP_DELAY' column for each CARRIER, sorted in ascending order of the mean.\n",
        "airline_delay = flights.groupby(['CARRIER'])['DEP_DELAY'].agg(['mean', 'median']).sort_values(by='mean', ascending=True)\n",
        "# Renaming the columns\n",
        "airline_delay = airline_delay.rename(columns = {airline_delay.columns[0]:'Avg Dep. Delay', airline_delay.columns[1]:'Median Dep. Delay'})\n",
        "# Viewing the results (top 10 rows)\n",
        "airline_delay.head(10)"
      ],
      "execution_count": 0,
      "outputs": [
        {
          "output_type": "execute_result",
          "data": {
            "text/html": [
              "<div>\n",
              "<style scoped>\n",
              "    .dataframe tbody tr th:only-of-type {\n",
              "        vertical-align: middle;\n",
              "    }\n",
              "\n",
              "    .dataframe tbody tr th {\n",
              "        vertical-align: top;\n",
              "    }\n",
              "\n",
              "    .dataframe thead th {\n",
              "        text-align: right;\n",
              "    }\n",
              "</style>\n",
              "<table border=\"1\" class=\"dataframe\">\n",
              "  <thead>\n",
              "    <tr style=\"text-align: right;\">\n",
              "      <th></th>\n",
              "      <th>Avg Dep. Delay</th>\n",
              "      <th>Median Dep. Delay</th>\n",
              "    </tr>\n",
              "    <tr>\n",
              "      <th>CARRIER</th>\n",
              "      <th></th>\n",
              "      <th></th>\n",
              "    </tr>\n",
              "  </thead>\n",
              "  <tbody>\n",
              "    <tr>\n",
              "      <th>HA</th>\n",
              "      <td>1.401808</td>\n",
              "      <td>-3.0</td>\n",
              "    </tr>\n",
              "    <tr>\n",
              "      <th>AS</th>\n",
              "      <td>2.456161</td>\n",
              "      <td>-5.0</td>\n",
              "    </tr>\n",
              "    <tr>\n",
              "      <th>AA</th>\n",
              "      <td>8.180574</td>\n",
              "      <td>-3.0</td>\n",
              "    </tr>\n",
              "    <tr>\n",
              "      <th>DL</th>\n",
              "      <td>8.497947</td>\n",
              "      <td>-2.0</td>\n",
              "    </tr>\n",
              "    <tr>\n",
              "      <th>UA</th>\n",
              "      <td>9.484484</td>\n",
              "      <td>-3.0</td>\n",
              "    </tr>\n",
              "    <tr>\n",
              "      <th>NK</th>\n",
              "      <td>10.171258</td>\n",
              "      <td>-4.0</td>\n",
              "    </tr>\n",
              "    <tr>\n",
              "      <th>WN</th>\n",
              "      <td>10.248374</td>\n",
              "      <td>0.0</td>\n",
              "    </tr>\n",
              "    <tr>\n",
              "      <th>OO</th>\n",
              "      <td>10.325922</td>\n",
              "      <td>-4.0</td>\n",
              "    </tr>\n",
              "    <tr>\n",
              "      <th>F9</th>\n",
              "      <td>12.127640</td>\n",
              "      <td>-2.0</td>\n",
              "    </tr>\n",
              "    <tr>\n",
              "      <th>EV</th>\n",
              "      <td>12.689932</td>\n",
              "      <td>-4.0</td>\n",
              "    </tr>\n",
              "  </tbody>\n",
              "</table>\n",
              "</div>"
            ],
            "text/plain": [
              "         Avg Dep. Delay  Median Dep. Delay\n",
              "CARRIER                                   \n",
              "HA             1.401808               -3.0\n",
              "AS             2.456161               -5.0\n",
              "AA             8.180574               -3.0\n",
              "DL             8.497947               -2.0\n",
              "UA             9.484484               -3.0\n",
              "NK            10.171258               -4.0\n",
              "WN            10.248374                0.0\n",
              "OO            10.325922               -4.0\n",
              "F9            12.127640               -2.0\n",
              "EV            12.689932               -4.0"
            ]
          },
          "metadata": {
            "tags": []
          },
          "execution_count": 622
        }
      ]
    },
    {
      "cell_type": "markdown",
      "metadata": {
        "id": "wi7HId3dPnQ3",
        "colab_type": "text"
      },
      "source": [
        "Next, we want to get for each CARRIER the probability, in descending order, that we will experience a delay with a given CARRIER, but also the average and median delay that we are likely to experience.\n",
        "\n",
        "To do that, the quickest way is to concatenate in a new Data Frame:\n",
        "1. The `Misery_Index` column from the `airline_misery` table, and\n",
        "2. The `airline_delay` table from the previous step, which includes the `Avg.Dep Delay` and `Median Dep Delay` columns"
      ]
    },
    {
      "cell_type": "code",
      "metadata": {
        "id": "djLLbfX5PnQ4",
        "colab_type": "code",
        "outputId": "309c47e4-989f-44ff-c04a-d4e7ba6dc5b7",
        "colab": {}
      },
      "source": [
        "airline_data = pd.concat([airline_delay, airline_misery['Misery_Index']], axis=1).sort_values(by='Misery_Index', ascending=False)\n",
        "airline_data.columns.name = 'CARRIER'\n",
        "airline_data.head(15)"
      ],
      "execution_count": 0,
      "outputs": [
        {
          "output_type": "execute_result",
          "data": {
            "text/html": [
              "<div>\n",
              "<style scoped>\n",
              "    .dataframe tbody tr th:only-of-type {\n",
              "        vertical-align: middle;\n",
              "    }\n",
              "\n",
              "    .dataframe tbody tr th {\n",
              "        vertical-align: top;\n",
              "    }\n",
              "\n",
              "    .dataframe thead th {\n",
              "        text-align: right;\n",
              "    }\n",
              "</style>\n",
              "<table border=\"1\" class=\"dataframe\">\n",
              "  <thead>\n",
              "    <tr style=\"text-align: right;\">\n",
              "      <th>CARRIER</th>\n",
              "      <th>Avg Dep. Delay</th>\n",
              "      <th>Median Dep. Delay</th>\n",
              "      <th>Misery_Index</th>\n",
              "    </tr>\n",
              "  </thead>\n",
              "  <tbody>\n",
              "    <tr>\n",
              "      <th>WN</th>\n",
              "      <td>10.248374</td>\n",
              "      <td>0.0</td>\n",
              "      <td>46.27</td>\n",
              "    </tr>\n",
              "    <tr>\n",
              "      <th>VX</th>\n",
              "      <td>13.219399</td>\n",
              "      <td>-2.0</td>\n",
              "      <td>40.77</td>\n",
              "    </tr>\n",
              "    <tr>\n",
              "      <th>B6</th>\n",
              "      <td>16.582982</td>\n",
              "      <td>-2.0</td>\n",
              "      <td>39.88</td>\n",
              "    </tr>\n",
              "    <tr>\n",
              "      <th>F9</th>\n",
              "      <td>12.127640</td>\n",
              "      <td>-2.0</td>\n",
              "      <td>36.05</td>\n",
              "    </tr>\n",
              "    <tr>\n",
              "      <th>AA</th>\n",
              "      <td>8.180574</td>\n",
              "      <td>-3.0</td>\n",
              "      <td>31.52</td>\n",
              "    </tr>\n",
              "    <tr>\n",
              "      <th>UA</th>\n",
              "      <td>9.484484</td>\n",
              "      <td>-3.0</td>\n",
              "      <td>31.50</td>\n",
              "    </tr>\n",
              "    <tr>\n",
              "      <th>DL</th>\n",
              "      <td>8.497947</td>\n",
              "      <td>-2.0</td>\n",
              "      <td>30.42</td>\n",
              "    </tr>\n",
              "    <tr>\n",
              "      <th>NK</th>\n",
              "      <td>10.171258</td>\n",
              "      <td>-4.0</td>\n",
              "      <td>30.23</td>\n",
              "    </tr>\n",
              "    <tr>\n",
              "      <th>HA</th>\n",
              "      <td>1.401808</td>\n",
              "      <td>-3.0</td>\n",
              "      <td>28.51</td>\n",
              "    </tr>\n",
              "    <tr>\n",
              "      <th>EV</th>\n",
              "      <td>12.689932</td>\n",
              "      <td>-4.0</td>\n",
              "      <td>27.84</td>\n",
              "    </tr>\n",
              "    <tr>\n",
              "      <th>AS</th>\n",
              "      <td>2.456161</td>\n",
              "      <td>-5.0</td>\n",
              "      <td>26.83</td>\n",
              "    </tr>\n",
              "    <tr>\n",
              "      <th>OO</th>\n",
              "      <td>10.325922</td>\n",
              "      <td>-4.0</td>\n",
              "      <td>26.27</td>\n",
              "    </tr>\n",
              "  </tbody>\n",
              "</table>\n",
              "</div>"
            ],
            "text/plain": [
              "CARRIER  Avg Dep. Delay  Median Dep. Delay  Misery_Index\n",
              "WN            10.248374                0.0         46.27\n",
              "VX            13.219399               -2.0         40.77\n",
              "B6            16.582982               -2.0         39.88\n",
              "F9            12.127640               -2.0         36.05\n",
              "AA             8.180574               -3.0         31.52\n",
              "UA             9.484484               -3.0         31.50\n",
              "DL             8.497947               -2.0         30.42\n",
              "NK            10.171258               -4.0         30.23\n",
              "HA             1.401808               -3.0         28.51\n",
              "EV            12.689932               -4.0         27.84\n",
              "AS             2.456161               -5.0         26.83\n",
              "OO            10.325922               -4.0         26.27"
            ]
          },
          "metadata": {
            "tags": []
          },
          "execution_count": 623
        }
      ]
    },
    {
      "cell_type": "markdown",
      "metadata": {
        "id": "P4RYRQVWPnQ8",
        "colab_type": "text"
      },
      "source": [
        "Finally, we want to use the carrier lookup table, in order to include the Carrier's name, in addition to the CARRIER's 3-digit alphanumeric code. To do that, we will:\n",
        "1. Import the carrier lookup table, named `carriers`, setting the `Code` column as index.\n",
        "2. Rename the index, as `CARRIER`, to match the name of the corresponding column in the `airline_data` table we created in the previous step\n",
        "3. Right join the `carriers` table, with the `airline_data` table, on the index"
      ]
    },
    {
      "cell_type": "code",
      "metadata": {
        "id": "jFvtbZoIPnQ9",
        "colab_type": "code",
        "outputId": "57b9a3ca-b5d5-4f17-9599-48f97f1416e5",
        "colab": {}
      },
      "source": [
        "# Importing the carrier lookup table, setting 'Code' as index\n",
        "carriers = pd.read_csv('L_UNIQUE_CARRIERS.csv_', delimiter=',').set_index('Code')\n",
        "# Renaming the index as 'CARRIER', to match the 'airline_data' table\n",
        "carriers.index.name = 'CARRIER'\n",
        "# Getting a sense of the table\n",
        "carriers.head(5)"
      ],
      "execution_count": 0,
      "outputs": [
        {
          "output_type": "execute_result",
          "data": {
            "text/html": [
              "<div>\n",
              "<style scoped>\n",
              "    .dataframe tbody tr th:only-of-type {\n",
              "        vertical-align: middle;\n",
              "    }\n",
              "\n",
              "    .dataframe tbody tr th {\n",
              "        vertical-align: top;\n",
              "    }\n",
              "\n",
              "    .dataframe thead th {\n",
              "        text-align: right;\n",
              "    }\n",
              "</style>\n",
              "<table border=\"1\" class=\"dataframe\">\n",
              "  <thead>\n",
              "    <tr style=\"text-align: right;\">\n",
              "      <th></th>\n",
              "      <th>Description</th>\n",
              "    </tr>\n",
              "    <tr>\n",
              "      <th>CARRIER</th>\n",
              "      <th></th>\n",
              "    </tr>\n",
              "  </thead>\n",
              "  <tbody>\n",
              "    <tr>\n",
              "      <th>02Q</th>\n",
              "      <td>Titan Airways</td>\n",
              "    </tr>\n",
              "    <tr>\n",
              "      <th>04Q</th>\n",
              "      <td>Tradewind Aviation</td>\n",
              "    </tr>\n",
              "    <tr>\n",
              "      <th>05Q</th>\n",
              "      <td>Comlux Aviation, AG</td>\n",
              "    </tr>\n",
              "    <tr>\n",
              "      <th>06Q</th>\n",
              "      <td>Master Top Linhas Aereas Ltd.</td>\n",
              "    </tr>\n",
              "    <tr>\n",
              "      <th>07Q</th>\n",
              "      <td>Flair Airlines Ltd.</td>\n",
              "    </tr>\n",
              "  </tbody>\n",
              "</table>\n",
              "</div>"
            ],
            "text/plain": [
              "                           Description\n",
              "CARRIER                               \n",
              "02Q                      Titan Airways\n",
              "04Q                 Tradewind Aviation\n",
              "05Q                Comlux Aviation, AG\n",
              "06Q      Master Top Linhas Aereas Ltd.\n",
              "07Q                Flair Airlines Ltd."
            ]
          },
          "metadata": {
            "tags": []
          },
          "execution_count": 624
        }
      ]
    },
    {
      "cell_type": "code",
      "metadata": {
        "id": "Bn1IYZ1-PnQ_",
        "colab_type": "code",
        "outputId": "617f8dc8-fa12-4f13-f9a9-bcb335d65c54",
        "colab": {}
      },
      "source": [
        "# Creating a joint table, which is the right join of 'carriers' and 'airline_data' on the matching index (CARRIER)\n",
        "airline_joint = carriers.join(airline_data, how='right')\n",
        "airline_joint.head(10)"
      ],
      "execution_count": 0,
      "outputs": [
        {
          "output_type": "execute_result",
          "data": {
            "text/html": [
              "<div>\n",
              "<style scoped>\n",
              "    .dataframe tbody tr th:only-of-type {\n",
              "        vertical-align: middle;\n",
              "    }\n",
              "\n",
              "    .dataframe tbody tr th {\n",
              "        vertical-align: top;\n",
              "    }\n",
              "\n",
              "    .dataframe thead th {\n",
              "        text-align: right;\n",
              "    }\n",
              "</style>\n",
              "<table border=\"1\" class=\"dataframe\">\n",
              "  <thead>\n",
              "    <tr style=\"text-align: right;\">\n",
              "      <th></th>\n",
              "      <th>Description</th>\n",
              "      <th>Avg Dep. Delay</th>\n",
              "      <th>Median Dep. Delay</th>\n",
              "      <th>Misery_Index</th>\n",
              "    </tr>\n",
              "  </thead>\n",
              "  <tbody>\n",
              "    <tr>\n",
              "      <th>WN</th>\n",
              "      <td>Southwest Airlines Co.</td>\n",
              "      <td>10.248374</td>\n",
              "      <td>0.0</td>\n",
              "      <td>46.27</td>\n",
              "    </tr>\n",
              "    <tr>\n",
              "      <th>VX</th>\n",
              "      <td>Virgin America</td>\n",
              "      <td>13.219399</td>\n",
              "      <td>-2.0</td>\n",
              "      <td>40.77</td>\n",
              "    </tr>\n",
              "    <tr>\n",
              "      <th>B6</th>\n",
              "      <td>JetBlue Airways</td>\n",
              "      <td>16.582982</td>\n",
              "      <td>-2.0</td>\n",
              "      <td>39.88</td>\n",
              "    </tr>\n",
              "    <tr>\n",
              "      <th>F9</th>\n",
              "      <td>Frontier Airlines Inc.</td>\n",
              "      <td>12.127640</td>\n",
              "      <td>-2.0</td>\n",
              "      <td>36.05</td>\n",
              "    </tr>\n",
              "    <tr>\n",
              "      <th>AA</th>\n",
              "      <td>American Airlines Inc.</td>\n",
              "      <td>8.180574</td>\n",
              "      <td>-3.0</td>\n",
              "      <td>31.52</td>\n",
              "    </tr>\n",
              "    <tr>\n",
              "      <th>UA</th>\n",
              "      <td>United Air Lines Inc.</td>\n",
              "      <td>9.484484</td>\n",
              "      <td>-3.0</td>\n",
              "      <td>31.50</td>\n",
              "    </tr>\n",
              "    <tr>\n",
              "      <th>DL</th>\n",
              "      <td>Delta Air Lines Inc.</td>\n",
              "      <td>8.497947</td>\n",
              "      <td>-2.0</td>\n",
              "      <td>30.42</td>\n",
              "    </tr>\n",
              "    <tr>\n",
              "      <th>NK</th>\n",
              "      <td>Spirit Air Lines</td>\n",
              "      <td>10.171258</td>\n",
              "      <td>-4.0</td>\n",
              "      <td>30.23</td>\n",
              "    </tr>\n",
              "    <tr>\n",
              "      <th>HA</th>\n",
              "      <td>Hawaiian Airlines Inc.</td>\n",
              "      <td>1.401808</td>\n",
              "      <td>-3.0</td>\n",
              "      <td>28.51</td>\n",
              "    </tr>\n",
              "    <tr>\n",
              "      <th>EV</th>\n",
              "      <td>ExpressJet Airlines Inc.</td>\n",
              "      <td>12.689932</td>\n",
              "      <td>-4.0</td>\n",
              "      <td>27.84</td>\n",
              "    </tr>\n",
              "  </tbody>\n",
              "</table>\n",
              "</div>"
            ],
            "text/plain": [
              "                 Description  Avg Dep. Delay  Median Dep. Delay  Misery_Index\n",
              "WN    Southwest Airlines Co.       10.248374                0.0         46.27\n",
              "VX            Virgin America       13.219399               -2.0         40.77\n",
              "B6           JetBlue Airways       16.582982               -2.0         39.88\n",
              "F9    Frontier Airlines Inc.       12.127640               -2.0         36.05\n",
              "AA    American Airlines Inc.        8.180574               -3.0         31.52\n",
              "UA     United Air Lines Inc.        9.484484               -3.0         31.50\n",
              "DL      Delta Air Lines Inc.        8.497947               -2.0         30.42\n",
              "NK          Spirit Air Lines       10.171258               -4.0         30.23\n",
              "HA    Hawaiian Airlines Inc.        1.401808               -3.0         28.51\n",
              "EV  ExpressJet Airlines Inc.       12.689932               -4.0         27.84"
            ]
          },
          "metadata": {
            "tags": []
          },
          "execution_count": 625
        }
      ]
    },
    {
      "cell_type": "markdown",
      "metadata": {
        "id": "30dgwM69PnRD",
        "colab_type": "text"
      },
      "source": [
        "## Task 3\n",
        "\n",
        ">Create a histogram that shows the distribution of departures for airports. That is, the x-axis will be bins containing flights and the y-axis will be the number of airports with departing flights in each particular bin."
      ]
    },
    {
      "cell_type": "markdown",
      "metadata": {
        "id": "_WtaymnnPnRE",
        "colab_type": "text"
      },
      "source": [
        "Using Matplotlib, we will create a histogram with the distribution of departures for airports.\n",
        "The dataframe we will use as input, will be `total_flights`, showing the number of flights for each ORIGIN airport."
      ]
    },
    {
      "cell_type": "code",
      "metadata": {
        "id": "tSEoBTY2PnRE",
        "colab_type": "code",
        "outputId": "3bfeb76e-b10d-40e5-bf85-f2531a1eab93",
        "colab": {}
      },
      "source": [
        "total_flights = flights.groupby(['ORIGIN']).size()\n",
        "total_flights.hist(color='coral', edgecolor='firebrick', \n",
        "                   figsize=(17, 5))\n",
        "plt.xlabel('No.Flights')\n",
        "plt.ylabel('No.Airports')\n",
        "plt.title('Distribution of flights to airports')"
      ],
      "execution_count": 0,
      "outputs": [
        {
          "output_type": "execute_result",
          "data": {
            "text/plain": [
              "Text(0.5,1,'Distribution of flights to airports')"
            ]
          },
          "metadata": {
            "tags": []
          },
          "execution_count": 626
        },
        {
          "output_type": "display_data",
          "data": {
            "image/png": "[encoded data removed]",
            "text/plain": [
              "<matplotlib.figure.Figure at 0x14d80b320>"
            ]
          },
          "metadata": {
            "tags": []
          }
        }
      ]
    },
    {
      "cell_type": "markdown",
      "metadata": {
        "id": "_O1shtk4PnRI",
        "colab_type": "text"
      },
      "source": [
        "Since we did not define a `bins` attribute, matplot uses the default number of bins (n=10).\n",
        "However, as we can see from the above histogram, there is a huge amount of observations gathered in the first bin, meaning that most airports have between 0 and ~36.000 flights. We get a sense that our histogram fails to capture a sufficiently descriptive picture about our data. That's why we will try to find the optimal number of bins and then recreate our histogram, using more bins.\n",
        "\n",
        "To select the optimal number of bins, we will use the Freedman-Diaconis Rule: https://en.wikipedia.org/wiki/Freedman%E2%80%93Diaconis_rule\n",
        "\n",
        "Executing the calculations needed:\n",
        "1. We will calculate the inner quantile, using the interquantile range\n",
        "2. We will calculate the width of each bin, using the inner quantile\n",
        "3. We will calculate the number of bins, dividing the max.No.Flights for any airport by the width of each bin"
      ]
    },
    {
      "cell_type": "code",
      "metadata": {
        "id": "mOEMScNRPnRJ",
        "colab_type": "code",
        "outputId": "f7aae6aa-60a1-4cb4-ec48-6d99b4f5ff21",
        "colab": {}
      },
      "source": [
        "# Importing the function for the interquantile range\n",
        "from scipy.stats import iqr\n",
        "# Calculating the inner quantile for our data\n",
        "inner_quantile = iqr(total_flights, axis=0); print(inner_quantile)"
      ],
      "execution_count": 0,
      "outputs": [
        {
          "output_type": "stream",
          "text": [
            "8558.0\n"
          ],
          "name": "stdout"
        }
      ]
    },
    {
      "cell_type": "code",
      "metadata": {
        "id": "oNGib5nrPnRM",
        "colab_type": "code",
        "outputId": "31297ba3-096a-4856-e65e-727a3995dcc2",
        "colab": {}
      },
      "source": [
        "# Calculating the width for each bin\n",
        "width = (2 * inner_quantile) // len(total_flights)**(1/3)\n",
        "width"
      ],
      "execution_count": 0,
      "outputs": [
        {
          "output_type": "execute_result",
          "data": {
            "text/plain": [
              "2502.0"
            ]
          },
          "metadata": {
            "tags": []
          },
          "execution_count": 628
        }
      ]
    },
    {
      "cell_type": "code",
      "metadata": {
        "id": "iZpGguElPnRR",
        "colab_type": "code",
        "outputId": "46d5f8b8-8f3e-48cc-ce38-2a217b28bf5a",
        "colab": {}
      },
      "source": [
        "# Calculating the number of bins needed\n",
        "bins = (max(total_flights) // width).astype(int); bins"
      ],
      "execution_count": 0,
      "outputs": [
        {
          "output_type": "execute_result",
          "data": {
            "text/plain": [
              "145"
            ]
          },
          "metadata": {
            "tags": []
          },
          "execution_count": 629
        }
      ]
    },
    {
      "cell_type": "code",
      "metadata": {
        "id": "TT5AWrb6PnRV",
        "colab_type": "code",
        "outputId": "efcd594a-4647-440d-f52d-c098a2ba1f36",
        "colab": {}
      },
      "source": [
        "total_flights.hist(bins= bins, color='coral', \n",
        "                   edgecolor='firebrick', figsize=(17, 5))\n",
        "plt.xlabel('No.Flights')\n",
        "plt.ylabel('No.Airports')\n",
        "plt.title('Distribution of flights to airports')\n"
      ],
      "execution_count": 0,
      "outputs": [
        {
          "output_type": "execute_result",
          "data": {
            "text/plain": [
              "Text(0.5,1,'Distribution of flights to airports')"
            ]
          },
          "metadata": {
            "tags": []
          },
          "execution_count": 630
        },
        {
          "output_type": "display_data",
          "data": {
            "image/png": "[encoded data removed]",
            "text/plain": [
              "<matplotlib.figure.Figure at 0x12aaa3b70>"
            ]
          },
          "metadata": {
            "tags": []
          }
        }
      ]
    },
    {
      "cell_type": "markdown",
      "metadata": {
        "id": "LTQXgA5DPnRd",
        "colab_type": "text"
      },
      "source": [
        "## Task 4\n",
        "\n",
        "\n",
        "> We are interested in the temporal distribution of delays, so create a plot that shows the number of flights and the number of delayed flights per month of year.\n"
      ]
    },
    {
      "cell_type": "markdown",
      "metadata": {
        "id": "ZOhZA0NBPnRd",
        "colab_type": "text"
      },
      "source": [
        "To create a plot that show the number of flights and the number of delayed flights per month of year, first, we will create a table that includes these values. To create the table:\n",
        "1. We add a new column to our original dataset, that extracts the Month from the 'FL_DATE' column\n",
        "2. We create a new variable, that includes the No. of delayed flights, grouped by Month\n",
        "3. We create a new variable, that includes the No. of Total flights, grouped by Month\n",
        "4. We create a new dataframe that includes these 2 calculated columns and month as the index\n"
      ]
    },
    {
      "cell_type": "code",
      "metadata": {
        "id": "xkJHoqwTPnRe",
        "colab_type": "code",
        "outputId": "1ce45f90-e444-4d81-d0dc-ea5f9527169c",
        "colab": {}
      },
      "source": [
        "# Adding a new column to our original dataset, that extracts the Month from the 'FL_DATE' column\n",
        "flights['Month'] = pd.to_datetime(flights['FL_DATE']).dt.month\n",
        "# We create a new variable, that includes the No. of delayed flights, grouped by Month\n",
        "dld = flights[flights['DEP_DELAY'] > 0].groupby(['Month']).size()\n",
        "# We create a new variable, that includes the No. of Total flights, grouped by Month\n",
        "ttl = flights.groupby(['Month']).size()\n",
        "\n",
        "# We create a new dataframe that includes these 2 calculated columns and month as the index\n",
        "ttl_flights = pd.DataFrame({'Delayed':dld, 'Total_Flights':ttl})\n",
        "ttl_flights.head(12)"
      ],
      "execution_count": 0,
      "outputs": [
        {
          "output_type": "execute_result",
          "data": {
            "text/html": [
              "<div>\n",
              "<style scoped>\n",
              "    .dataframe tbody tr th:only-of-type {\n",
              "        vertical-align: middle;\n",
              "    }\n",
              "\n",
              "    .dataframe tbody tr th {\n",
              "        vertical-align: top;\n",
              "    }\n",
              "\n",
              "    .dataframe thead th {\n",
              "        text-align: right;\n",
              "    }\n",
              "</style>\n",
              "<table border=\"1\" class=\"dataframe\">\n",
              "  <thead>\n",
              "    <tr style=\"text-align: right;\">\n",
              "      <th></th>\n",
              "      <th>Delayed</th>\n",
              "      <th>Total_Flights</th>\n",
              "    </tr>\n",
              "    <tr>\n",
              "      <th>Month</th>\n",
              "      <th></th>\n",
              "      <th></th>\n",
              "    </tr>\n",
              "  </thead>\n",
              "  <tbody>\n",
              "    <tr>\n",
              "      <th>1</th>\n",
              "      <td>168917</td>\n",
              "      <td>450017</td>\n",
              "    </tr>\n",
              "    <tr>\n",
              "      <th>2</th>\n",
              "      <td>123829</td>\n",
              "      <td>410517</td>\n",
              "    </tr>\n",
              "    <tr>\n",
              "      <th>3</th>\n",
              "      <td>167616</td>\n",
              "      <td>488597</td>\n",
              "    </tr>\n",
              "    <tr>\n",
              "      <th>4</th>\n",
              "      <td>163361</td>\n",
              "      <td>468329</td>\n",
              "    </tr>\n",
              "    <tr>\n",
              "      <th>5</th>\n",
              "      <td>177199</td>\n",
              "      <td>486483</td>\n",
              "    </tr>\n",
              "    <tr>\n",
              "      <th>6</th>\n",
              "      <td>197546</td>\n",
              "      <td>494266</td>\n",
              "    </tr>\n",
              "    <tr>\n",
              "      <th>7</th>\n",
              "      <td>197083</td>\n",
              "      <td>509070</td>\n",
              "    </tr>\n",
              "    <tr>\n",
              "      <th>8</th>\n",
              "      <td>188467</td>\n",
              "      <td>510451</td>\n",
              "    </tr>\n",
              "    <tr>\n",
              "      <th>9</th>\n",
              "      <td>124555</td>\n",
              "      <td>458727</td>\n",
              "    </tr>\n",
              "    <tr>\n",
              "      <th>10</th>\n",
              "      <td>145783</td>\n",
              "      <td>479797</td>\n",
              "    </tr>\n",
              "    <tr>\n",
              "      <th>11</th>\n",
              "      <td>125138</td>\n",
              "      <td>454162</td>\n",
              "    </tr>\n",
              "    <tr>\n",
              "      <th>12</th>\n",
              "      <td>168404</td>\n",
              "      <td>464205</td>\n",
              "    </tr>\n",
              "  </tbody>\n",
              "</table>\n",
              "</div>"
            ],
            "text/plain": [
              "       Delayed  Total_Flights\n",
              "Month                        \n",
              "1       168917         450017\n",
              "2       123829         410517\n",
              "3       167616         488597\n",
              "4       163361         468329\n",
              "5       177199         486483\n",
              "6       197546         494266\n",
              "7       197083         509070\n",
              "8       188467         510451\n",
              "9       124555         458727\n",
              "10      145783         479797\n",
              "11      125138         454162\n",
              "12      168404         464205"
            ]
          },
          "metadata": {
            "tags": []
          },
          "execution_count": 631
        }
      ]
    },
    {
      "cell_type": "markdown",
      "metadata": {
        "id": "TGlUQXCEPnRg",
        "colab_type": "text"
      },
      "source": [
        "Next, we create a simple barplot that showss:\n",
        "* With orange: the total number of flights for each month\n",
        "* With blue: the number of delayed flights per month"
      ]
    },
    {
      "cell_type": "code",
      "metadata": {
        "id": "M9VKL_lvPnRh",
        "colab_type": "code",
        "outputId": "dacb2903-7b61-488b-dfef-1f9314a4ce2e",
        "colab": {}
      },
      "source": [
        "ttl_flights.plot(kind='bar', figsize=(12,5), stacked=False)"
      ],
      "execution_count": 0,
      "outputs": [
        {
          "output_type": "execute_result",
          "data": {
            "text/plain": [
              "<matplotlib.axes._subplots.AxesSubplot at 0x16206d6a0>"
            ]
          },
          "metadata": {
            "tags": []
          },
          "execution_count": 632
        },
        {
          "output_type": "display_data",
          "data": {
            "image/png": "[encoded data removed]",
            "text/plain": [
              "<matplotlib.figure.Figure at 0x161b92940>"
            ]
          },
          "metadata": {
            "tags": []
          }
        }
      ]
    },
    {
      "cell_type": "markdown",
      "metadata": {
        "id": "lOgkGrkEPnRk",
        "colab_type": "text"
      },
      "source": [
        "However, it might be a better idea to create a stacked barplot, in order to better visualize the relationship between delayed flights and total flights. To do that:\n",
        "1. We create a new variable, which is the difference between total flights and delayed flights. We do that, in order to avoid having a stacked bar that includes the delayed flights twice.\n",
        "2. We set the x locations for the groups according to the values of the index (=Months)\n",
        "3. We define the characteristics we want for the bars, making sure that the second bar is stacked on top of the first one\n",
        "4. We define the attributes of the figure (such as axis titles, legend details, etc)"
      ]
    },
    {
      "cell_type": "code",
      "metadata": {
        "id": "P44H3ddRPnRm",
        "colab_type": "code",
        "outputId": "9f2dc508-9b50-4e1e-8744-79c0b376286c",
        "colab": {}
      },
      "source": [
        "diff = ttl - dld # We use the ttl and dld attributes we defined in the previous step\n",
        "ind = ttl_flights.index.values # the x locations for the groups\n",
        "width = 0.65 # the width of the bars\n",
        "\n",
        "plt.figure(figsize=(17,7)) \n",
        "p1 = plt.bar(ind, dld, width) # delayed flights bar\n",
        "p2 = plt.bar(ind, diff, width, bottom=dld) # non-delayed flights bar (stacked on top of p1) witht the bottom=dld attribute\n",
        "\n",
        "plt.ylabel('No.Flights') # Y axis label\n",
        "plt.xlabel('Months') # X axis label\n",
        "plt.title('No. of Delayed flights per month VS. Total flights per month') # Title of the figure\n",
        "plt.xticks(ind) # X axis ticks\n",
        "plt.legend((p1[0], p2[0]), ('Delayed Flights', 'Non-delayed Flights')) # legend details\n",
        "\n",
        "plt.show()"
      ],
      "execution_count": 0,
      "outputs": [
        {
          "output_type": "display_data",
          "data": {
            "image/png": "[encoded data removed]",
            "text/plain": [
              "<matplotlib.figure.Figure at 0x135382048>"
            ]
          },
          "metadata": {
            "tags": []
          }
        }
      ]
    },
    {
      "cell_type": "markdown",
      "metadata": {
        "id": "2te6I22_PnRs",
        "colab_type": "text"
      },
      "source": [
        "### IMPORANT NOTE: Using this method, we should keep in mind that the height of each bar (=the blue and orange stacked bars combined) is equal to the total number of flights. The orange part of the bar shows the number of non-delayed flights."
      ]
    },
    {
      "cell_type": "markdown",
      "metadata": {
        "id": "TxOQaxTsPnRt",
        "colab_type": "text"
      },
      "source": [
        "## Task 5\n",
        "\n",
        "> Provide a table that shows, for each possible origin and destination, which airline has the best performance, in terms of mean departure delay. With this table at hand, show how you can determine the best airline for a particular pair of origin and destination airports.\n",
        "\n"
      ]
    },
    {
      "cell_type": "markdown",
      "metadata": {
        "id": "Kx2yOqJxPnRv",
        "colab_type": "text"
      },
      "source": [
        "In order to produce a table that show the pairs of possible origins and destinations, as well as each airline's performance:\n",
        "1. We create a new data frame, using a multiple index consisting of `ORIGIN` and `DEST`\n",
        "2. Find the mean for the column `DEP_DELAY` for each combination of `ORIGIN`, `DEST` and `CARRIER`, using group by"
      ]
    },
    {
      "cell_type": "code",
      "metadata": {
        "id": "3pd1BJ-gPnRy",
        "colab_type": "code",
        "colab": {}
      },
      "source": [
        "# We create a new data frame, using a multi-index, consisting of the columns ORIGIN and DEST\n",
        "pairs = flights.set_index(['ORIGIN','DEST'])\n",
        "# We sort the new table, using the levels of the indices.\n",
        "pairs = pairs.sort_index(level=['ORIGIN','DEST'])\n",
        "\n",
        "# We can take a look at the table if we want, by un-commenting the following line\n",
        "# pairs"
      ],
      "execution_count": 0,
      "outputs": []
    },
    {
      "cell_type": "markdown",
      "metadata": {
        "id": "grhrPfd5PnRz",
        "colab_type": "text"
      },
      "source": [
        "Using groupby, we extract the mean of the `DEP_DELAY` column for each group of `ORIGIN`, `DEST` and `CARRIER`.\n",
        "The table `pairs_new` shows, for each possible origin and destination, the average departure delay of each airline that serves this route."
      ]
    },
    {
      "cell_type": "code",
      "metadata": {
        "id": "RVVXg6B3PnR0",
        "colab_type": "code",
        "outputId": "aa9d6b4f-9e50-4173-c0ec-84236d9568d6",
        "colab": {}
      },
      "source": [
        "pairs_new = pairs.groupby(['ORIGIN','DEST','CARRIER'])['DEP_DELAY'].mean()\n",
        "pairs_new.head(20)"
      ],
      "execution_count": 0,
      "outputs": [
        {
          "output_type": "execute_result",
          "data": {
            "text/plain": [
              "ORIGIN  DEST  CARRIER\n",
              "ABE     ATL   DL           4.723164\n",
              "              EV          15.730983\n",
              "        DTW   EV         100.629630\n",
              "              OO           9.452926\n",
              "        ORD   EV           9.872928\n",
              "              OO          15.220657\n",
              "ABI     DFW   EV          19.875000\n",
              "        GRK   EV          75.000000\n",
              "ABQ     ATL   DL           6.023256\n",
              "        AUS   WN           5.441860\n",
              "        BWI   WN           9.421642\n",
              "        DAL   WN           9.748954\n",
              "        DEN   F9           8.878049\n",
              "              OO           1.098940\n",
              "              UA           1.992661\n",
              "              WN           8.083654\n",
              "        DFW   AA           5.729875\n",
              "        HOU   WN           7.969488\n",
              "        IAH   EV           3.718750\n",
              "              OO          17.905292\n",
              "Name: DEP_DELAY, dtype: float64"
            ]
          },
          "metadata": {
            "tags": []
          },
          "execution_count": 635
        }
      ]
    },
    {
      "cell_type": "markdown",
      "metadata": {
        "id": "GXcVnIB5PnR3",
        "colab_type": "text"
      },
      "source": [
        "For each combination of `ORIGIN` and `DEST` we can see what is the minimum mean delay time, between all the carriers that serve this route."
      ]
    },
    {
      "cell_type": "code",
      "metadata": {
        "id": "UcIsk_amPnR4",
        "colab_type": "code",
        "outputId": "10a0859d-f511-457b-ffb6-3f4805322c61",
        "colab": {}
      },
      "source": [
        "pairs_new.min(level=[0,1]).head(10)"
      ],
      "execution_count": 0,
      "outputs": [
        {
          "output_type": "execute_result",
          "data": {
            "text/plain": [
              "ORIGIN  DEST\n",
              "ABE     ATL      4.723164\n",
              "        DTW      9.452926\n",
              "        ORD      9.872928\n",
              "ABI     DFW     19.875000\n",
              "        GRK     75.000000\n",
              "ABQ     ATL      6.023256\n",
              "        AUS      5.441860\n",
              "        BWI      9.421642\n",
              "        DAL      9.748954\n",
              "        DEN      1.098940\n",
              "Name: DEP_DELAY, dtype: float64"
            ]
          },
          "metadata": {
            "tags": []
          },
          "execution_count": 636
        }
      ]
    },
    {
      "cell_type": "markdown",
      "metadata": {
        "id": "K4i55jE8PnR8",
        "colab_type": "text"
      },
      "source": [
        "If, given a combination of `ORIGIN` and `DEST`, we wanted to find out which carrier has the lowest mean departure delay we could find it, using the `.loc` function and defining the `ORIGIN` and `DEST` 3-letter codes we want. Then, by defining the columns we want (`CARRIER` and `DEP_DELAY`) and using the `mean()` function, we can find the mean departure delay for each carrier. Finally, by sorting the table in ascending order, we can see which airline has the lowest mean departure delay."
      ]
    },
    {
      "cell_type": "code",
      "metadata": {
        "id": "ij843ifnPnR9",
        "colab_type": "code",
        "outputId": "99d89f06-1ace-4e21-c77d-67a6ba73d77f",
        "colab": {}
      },
      "source": [
        "pairs.loc[(['LAX'], ['SFO']), \n",
        "          ['CARRIER', 'DEP_DELAY']].groupby(['CARRIER']).mean().sort_values(by='DEP_DELAY', ascending=True).rename(columns={'DEP_DELAY':'AVG_DEP_DELAY'})"
      ],
      "execution_count": 0,
      "outputs": [
        {
          "output_type": "execute_result",
          "data": {
            "text/html": [
              "<div>\n",
              "<style scoped>\n",
              "    .dataframe tbody tr th:only-of-type {\n",
              "        vertical-align: middle;\n",
              "    }\n",
              "\n",
              "    .dataframe tbody tr th {\n",
              "        vertical-align: top;\n",
              "    }\n",
              "\n",
              "    .dataframe thead th {\n",
              "        text-align: right;\n",
              "    }\n",
              "</style>\n",
              "<table border=\"1\" class=\"dataframe\">\n",
              "  <thead>\n",
              "    <tr style=\"text-align: right;\">\n",
              "      <th></th>\n",
              "      <th>AVG_DEP_DELAY</th>\n",
              "    </tr>\n",
              "    <tr>\n",
              "      <th>CARRIER</th>\n",
              "      <th></th>\n",
              "    </tr>\n",
              "  </thead>\n",
              "  <tbody>\n",
              "    <tr>\n",
              "      <th>UA</th>\n",
              "      <td>9.144136</td>\n",
              "    </tr>\n",
              "    <tr>\n",
              "      <th>VX</th>\n",
              "      <td>20.541726</td>\n",
              "    </tr>\n",
              "    <tr>\n",
              "      <th>DL</th>\n",
              "      <td>21.874426</td>\n",
              "    </tr>\n",
              "    <tr>\n",
              "      <th>WN</th>\n",
              "      <td>27.662265</td>\n",
              "    </tr>\n",
              "    <tr>\n",
              "      <th>OO</th>\n",
              "      <td>32.872453</td>\n",
              "    </tr>\n",
              "    <tr>\n",
              "      <th>AA</th>\n",
              "      <td>37.750000</td>\n",
              "    </tr>\n",
              "  </tbody>\n",
              "</table>\n",
              "</div>"
            ],
            "text/plain": [
              "         AVG_DEP_DELAY\n",
              "CARRIER               \n",
              "UA            9.144136\n",
              "VX           20.541726\n",
              "DL           21.874426\n",
              "WN           27.662265\n",
              "OO           32.872453\n",
              "AA           37.750000"
            ]
          },
          "metadata": {
            "tags": []
          },
          "execution_count": 637
        }
      ]
    },
    {
      "cell_type": "markdown",
      "metadata": {
        "id": "Kp6C9rvePnSA",
        "colab_type": "text"
      },
      "source": [
        "We can also pass this routine into a function, which will take as input from the user 2 airport codes (origin and destination) and will show the performance of each airline that serves this route, in terms of mean departure delay, as well as the airline that has the minimum avg departure delay."
      ]
    },
    {
      "cell_type": "code",
      "metadata": {
        "id": "B6rWSipwPnSA",
        "colab_type": "code",
        "outputId": "eb918e3f-c7bc-4520-dff3-957461d16868",
        "colab": {}
      },
      "source": [
        "def routeDelay(origin, destination):\n",
        "    print(' ')\n",
        "    result = carriers.join((pairs.loc[(origin, destination), ['CARRIER', 'DEP_DELAY']].groupby(['CARRIER']).mean().sort_values(by='DEP_DELAY', ascending=True).rename(columns={'DEP_DELAY':'AVG_DEP_DELAY'}))\n",
        ", how='right')\n",
        "    print(result)\n",
        "    print(' ')\n",
        "    print('The lowest average departure delay for this trip is: ')\n",
        "    print(result.head(1))\n",
        "\n",
        "user_origin = input(\"What's the origin airport (3-letter code)? \")\n",
        "user_destination = input(\"What's the destination airport (3-letter code)? \")\n",
        "routeDelay(user_origin, user_destination)\n"
      ],
      "execution_count": 0,
      "outputs": [
        {
          "output_type": "stream",
          "text": [
            "What's the origin airport (3-letter code)? LAX\n",
            "What's the destination airport (3-letter code)? SFO\n",
            " \n",
            "                    Description  AVG_DEP_DELAY\n",
            "CARRIER                                       \n",
            "UA        United Air Lines Inc.       9.144136\n",
            "VX               Virgin America      20.541726\n",
            "DL         Delta Air Lines Inc.      21.874426\n",
            "WN       Southwest Airlines Co.      27.662265\n",
            "OO        SkyWest Airlines Inc.      32.872453\n",
            "AA       American Airlines Inc.      37.750000\n",
            " \n",
            "The lowest average departure delay for this trip is: \n",
            "                   Description  AVG_DEP_DELAY\n",
            "CARRIER                                      \n",
            "UA       United Air Lines Inc.       9.144136\n"
          ],
          "name": "stdout"
        }
      ]
    }
  ]
}